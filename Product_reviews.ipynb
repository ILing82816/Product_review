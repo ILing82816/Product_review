{
 "cells": [
  {
   "cell_type": "code",
   "execution_count": 3,
   "metadata": {},
   "outputs": [],
   "source": [
    "#package\n",
    "import pandas as pd\n",
    "import numpy as np\n",
    "from pandas import Series,DataFrame\n",
    "\n",
    "import spacy\n",
    "import string\n",
    "from nltk.corpus import stopwords\n",
    "import nltk\n",
    "from nltk.tokenize.toktok import ToktokTokenizer\n",
    "import re\n",
    "from bs4 import BeautifulSoup\n",
    "from contractions import CONTRACTION_MAP\n",
    "import unicodedata\n",
    "\n",
    "import plotly.express as px\n",
    "import plotly.graph_objects as go\n",
    "from plotly.subplots import make_subplots\n",
    "import matplotlib.pyplot as plt\n",
    "import seaborn as sns\n"
   ]
  },
  {
   "cell_type": "code",
   "execution_count": 5,
   "metadata": {},
   "outputs": [],
   "source": [
    "# Load data\n",
    "path = 'D:/USA 2021 Spring/Shopee Code League/Data_science/Product_review/train.csv'\n",
    "traindf = pd.read_csv(path)"
   ]
  },
  {
   "cell_type": "code",
   "execution_count": 6,
   "metadata": {},
   "outputs": [],
   "source": [
    "path = 'D:/USA 2021 Spring/Shopee Code League/Data_science/Product_review/test.csv'\n",
    "testdf = pd.read_csv(path)"
   ]
  },
  {
   "cell_type": "code",
   "execution_count": 7,
   "metadata": {},
   "outputs": [
    {
     "data": {
      "text/html": [
       "<div>\n",
       "<style scoped>\n",
       "    .dataframe tbody tr th:only-of-type {\n",
       "        vertical-align: middle;\n",
       "    }\n",
       "\n",
       "    .dataframe tbody tr th {\n",
       "        vertical-align: top;\n",
       "    }\n",
       "\n",
       "    .dataframe thead th {\n",
       "        text-align: right;\n",
       "    }\n",
       "</style>\n",
       "<table border=\"1\" class=\"dataframe\">\n",
       "  <thead>\n",
       "    <tr style=\"text-align: right;\">\n",
       "      <th></th>\n",
       "      <th>review_id</th>\n",
       "      <th>review</th>\n",
       "      <th>rating</th>\n",
       "    </tr>\n",
       "  </thead>\n",
       "  <tbody>\n",
       "    <tr>\n",
       "      <th>0</th>\n",
       "      <td>0</td>\n",
       "      <td>Ga disappointed neat products .. Meletot Hilsn...</td>\n",
       "      <td>1</td>\n",
       "    </tr>\n",
       "    <tr>\n",
       "      <th>1</th>\n",
       "      <td>1</td>\n",
       "      <td>Rdtanya replace broken glass, broken chargernya</td>\n",
       "      <td>1</td>\n",
       "    </tr>\n",
       "    <tr>\n",
       "      <th>2</th>\n",
       "      <td>2</td>\n",
       "      <td>Nyesel bngt dsni shopping antecedent photo mes...</td>\n",
       "      <td>1</td>\n",
       "    </tr>\n",
       "    <tr>\n",
       "      <th>3</th>\n",
       "      <td>3</td>\n",
       "      <td>Sent a light blue suit goods ga want a refund</td>\n",
       "      <td>1</td>\n",
       "    </tr>\n",
       "    <tr>\n",
       "      <th>4</th>\n",
       "      <td>4</td>\n",
       "      <td>Pendants came with dents and scratches on its ...</td>\n",
       "      <td>1</td>\n",
       "    </tr>\n",
       "  </tbody>\n",
       "</table>\n",
       "</div>"
      ],
      "text/plain": [
       "   review_id                                             review  rating\n",
       "0          0  Ga disappointed neat products .. Meletot Hilsn...       1\n",
       "1          1    Rdtanya replace broken glass, broken chargernya       1\n",
       "2          2  Nyesel bngt dsni shopping antecedent photo mes...       1\n",
       "3          3      Sent a light blue suit goods ga want a refund       1\n",
       "4          4  Pendants came with dents and scratches on its ...       1"
      ]
     },
     "metadata": {},
     "output_type": "display_data"
    },
    {
     "data": {
      "text/html": [
       "<div>\n",
       "<style scoped>\n",
       "    .dataframe tbody tr th:only-of-type {\n",
       "        vertical-align: middle;\n",
       "    }\n",
       "\n",
       "    .dataframe tbody tr th {\n",
       "        vertical-align: top;\n",
       "    }\n",
       "\n",
       "    .dataframe thead th {\n",
       "        text-align: right;\n",
       "    }\n",
       "</style>\n",
       "<table border=\"1\" class=\"dataframe\">\n",
       "  <thead>\n",
       "    <tr style=\"text-align: right;\">\n",
       "      <th></th>\n",
       "      <th>review_id</th>\n",
       "      <th>review</th>\n",
       "    </tr>\n",
       "  </thead>\n",
       "  <tbody>\n",
       "    <tr>\n",
       "      <th>0</th>\n",
       "      <td>1</td>\n",
       "      <td>Great danger, cool, motif and cantik2 jg model...</td>\n",
       "    </tr>\n",
       "    <tr>\n",
       "      <th>1</th>\n",
       "      <td>2</td>\n",
       "      <td>One of the shades don't fit well</td>\n",
       "    </tr>\n",
       "    <tr>\n",
       "      <th>2</th>\n",
       "      <td>3</td>\n",
       "      <td>Very comfortable</td>\n",
       "    </tr>\n",
       "    <tr>\n",
       "      <th>3</th>\n",
       "      <td>4</td>\n",
       "      <td>Fast delivery. Product expiry is on Dec 2022. ...</td>\n",
       "    </tr>\n",
       "    <tr>\n",
       "      <th>4</th>\n",
       "      <td>5</td>\n",
       "      <td>it's sooooo cute! i like playing with the glit...</td>\n",
       "    </tr>\n",
       "  </tbody>\n",
       "</table>\n",
       "</div>"
      ],
      "text/plain": [
       "   review_id                                             review\n",
       "0          1  Great danger, cool, motif and cantik2 jg model...\n",
       "1          2                   One of the shades don't fit well\n",
       "2          3                                   Very comfortable\n",
       "3          4  Fast delivery. Product expiry is on Dec 2022. ...\n",
       "4          5  it's sooooo cute! i like playing with the glit..."
      ]
     },
     "metadata": {},
     "output_type": "display_data"
    }
   ],
   "source": [
    "display(traindf.head(), testdf.head())"
   ]
  },
  {
   "cell_type": "markdown",
   "metadata": {},
   "source": [
    "# Step 1 Exploration and Data Clean"
   ]
  },
  {
   "cell_type": "markdown",
   "metadata": {},
   "source": [
    "## Data information"
   ]
  },
  {
   "cell_type": "code",
   "execution_count": 8,
   "metadata": {},
   "outputs": [
    {
     "name": "stdout",
     "output_type": "stream",
     "text": [
      "<class 'pandas.core.frame.DataFrame'>\n",
      "RangeIndex: 146811 entries, 0 to 146810\n",
      "Data columns (total 3 columns):\n",
      " #   Column     Non-Null Count   Dtype \n",
      "---  ------     --------------   ----- \n",
      " 0   review_id  146811 non-null  int64 \n",
      " 1   review     146811 non-null  object\n",
      " 2   rating     146811 non-null  int64 \n",
      "dtypes: int64(2), object(1)\n",
      "memory usage: 3.4+ MB\n"
     ]
    }
   ],
   "source": [
    "traindf.info()"
   ]
  },
  {
   "cell_type": "code",
   "execution_count": 9,
   "metadata": {},
   "outputs": [
    {
     "data": {
      "text/plain": [
       "4    41865\n",
       "5    41515\n",
       "3    35941\n",
       "1    14785\n",
       "2    12705\n",
       "Name: rating, dtype: int64"
      ]
     },
     "execution_count": 9,
     "metadata": {},
     "output_type": "execute_result"
    }
   ],
   "source": [
    "traindf[\"rating\"].value_counts()"
   ]
  },
  {
   "cell_type": "markdown",
   "metadata": {},
   "source": [
    "## Text Pre-processing"
   ]
  },
  {
   "cell_type": "code",
   "execution_count": 10,
   "metadata": {},
   "outputs": [
    {
     "name": "stdout",
     "output_type": "stream",
     "text": [
      "110108 110108 36703 36703\n"
     ]
    }
   ],
   "source": [
    "from sklearn.model_selection import train_test_split\n",
    "\n",
    "msg_train,msg_valid,rating_train,rating_valid = train_test_split(traindf['review'],traindf['rating'])\n",
    "\n",
    "print(len(msg_train), len(rating_train), len(msg_valid),len(rating_valid))"
   ]
  },
  {
   "cell_type": "code",
   "execution_count": 11,
   "metadata": {},
   "outputs": [
    {
     "name": "stderr",
     "output_type": "stream",
     "text": [
      "Using TensorFlow backend.\n"
     ]
    }
   ],
   "source": [
    "from keras.utils import np_utils\n",
    "from sklearn.preprocessing import LabelEncoder\n",
    "le = LabelEncoder()\n",
    "\n",
    "le_train = le.fit_transform(rating_train)\n",
    "train_Y = np_utils.to_categorical(le_train)\n",
    "\n",
    "le_valid = le.fit_transform(rating_valid)\n",
    "valid_Y =np_utils.to_categorical(le_valid)"
   ]
  },
  {
   "cell_type": "code",
   "execution_count": 12,
   "metadata": {},
   "outputs": [
    {
     "data": {
      "text/plain": [
       "array([[0., 0., 0., 1., 0.],\n",
       "       [0., 1., 0., 0., 0.],\n",
       "       [0., 0., 0., 1., 0.],\n",
       "       ...,\n",
       "       [0., 0., 0., 0., 1.],\n",
       "       [0., 0., 0., 0., 1.],\n",
       "       [0., 0., 0., 1., 0.]], dtype=float32)"
      ]
     },
     "execution_count": 12,
     "metadata": {},
     "output_type": "execute_result"
    }
   ],
   "source": [
    "train_Y"
   ]
  },
  {
   "cell_type": "code",
   "execution_count": 13,
   "metadata": {},
   "outputs": [],
   "source": [
    "# normalize\n",
    "## remove negation words from stopword_list\n",
    "nlp = spacy.load('en_core_web_lg')\n",
    "tokenizer = ToktokTokenizer()\n",
    "stopword_list = nltk.corpus.stopwords.words('english')\n",
    "stopword_list.remove('no')\n",
    "stopword_list.remove('not')"
   ]
  },
  {
   "cell_type": "code",
   "execution_count": 14,
   "metadata": {},
   "outputs": [],
   "source": [
    "def strip_html_tags(text):\n",
    "    soup = BeautifulSoup(text, \"html.parser\")\n",
    "    stripped_text = soup.get_text()\n",
    "    return stripped_text\n",
    "def remove_accented_chars(text):\n",
    "    text = unicodedata.normalize('NFKD', text).encode('ascii', 'ignore').decode('utf-8', 'ignore')\n",
    "    return text\n",
    "def expand_contractions(text, contraction_mapping=CONTRACTION_MAP):\n",
    "    \n",
    "    contractions_pattern = re.compile('({})'.format('|'.join(contraction_mapping.keys())), \n",
    "                                      flags=re.IGNORECASE|re.DOTALL)\n",
    "    def expand_match(contraction):\n",
    "        match = contraction.group(0)\n",
    "        first_char = match[0]\n",
    "        expanded_contraction = contraction_mapping.get(match)\\\n",
    "                                if contraction_mapping.get(match)\\\n",
    "                                else contraction_mapping.get(match.lower())                       \n",
    "        expanded_contraction = first_char+expanded_contraction[1:]\n",
    "        return expanded_contraction\n",
    "        \n",
    "    expanded_text = contractions_pattern.sub(expand_match, text)\n",
    "    expanded_text = re.sub(\"'\", \"\", expanded_text)\n",
    "    return expanded_text\n",
    "def lemmatize_text(text):\n",
    "    text = nlp(text)\n",
    "    text = ' '.join([word.lemma_ if word.lemma_ != '-PRON-' else word.text for word in text])\n",
    "    return text\n",
    "def remove_special_characters(text):\n",
    "    text = re.sub('[^a-zA-z0-9\\s]', '', text)\n",
    "    return text\n",
    "def remove_stopwords(text, is_lower_case=False):\n",
    "    tokens = tokenizer.tokenize(text)\n",
    "    tokens = [token.strip() for token in tokens]\n",
    "    if is_lower_case:\n",
    "        filtered_tokens = [token for token in tokens if token not in stopword_list]\n",
    "    else:\n",
    "        filtered_tokens = [token for token in tokens if token.lower() not in stopword_list]\n",
    "    filtered_text = ' '.join(filtered_tokens)    \n",
    "    return filtered_text\n",
    "\n",
    "\n",
    "def normalize_corpus(corpus, html_stripping=True, contraction_expansion=True,\n",
    "                     accented_char_removal=True, text_lower_case=True, \n",
    "                     text_lemmatization=True, special_char_removal=True, \n",
    "                     stopword_removal=True):\n",
    "    \n",
    "    normalized_corpus = []\n",
    "    # normalize each document in the corpus\n",
    "    for doc in corpus:\n",
    "        # strip HTML\n",
    "        if html_stripping:\n",
    "            doc = strip_html_tags(doc)\n",
    "        # remove accented characters\n",
    "        if accented_char_removal:\n",
    "            doc = remove_accented_chars(doc)\n",
    "        # expand contractions    \n",
    "        if contraction_expansion:\n",
    "            doc = expand_contractions(doc)\n",
    "        # lowercase the text    \n",
    "        if text_lower_case:\n",
    "            doc = doc.lower()\n",
    "        # remove extra newlines\n",
    "        doc = re.sub(r'[\\r|\\n|\\r\\n]+', ' ',doc)\n",
    "        # insert spaces between special characters to isolate them    \n",
    "        special_char_pattern = re.compile(r'([{.(-)!}])')\n",
    "        doc = special_char_pattern.sub(\" \\\\1 \", doc)\n",
    "        # lemmatize text\n",
    "        if text_lemmatization:\n",
    "            doc = lemmatize_text(doc)\n",
    "        # remove special characters    \n",
    "        if special_char_removal:\n",
    "            doc = remove_special_characters(doc)  \n",
    "        # remove extra whitespace\n",
    "        doc = re.sub(' +', ' ', doc)\n",
    "        # remove stopwords\n",
    "        if stopword_removal:\n",
    "            doc = remove_stopwords(doc, is_lower_case=text_lower_case)\n",
    "            \n",
    "        normalized_corpus.append(doc)\n",
    "        \n",
    "    return normalized_corpus"
   ]
  },
  {
   "cell_type": "code",
   "execution_count": 15,
   "metadata": {},
   "outputs": [],
   "source": [
    "norm_train_msg = normalize_corpus(msg_train, html_stripping=False)\n",
    "norm_valid_msg = normalize_corpus(msg_valid, html_stripping=False)"
   ]
  },
  {
   "cell_type": "code",
   "execution_count": 16,
   "metadata": {},
   "outputs": [
    {
     "data": {
      "text/plain": [
       "'valvular tz'"
      ]
     },
     "execution_count": 16,
     "metadata": {},
     "output_type": "execute_result"
    }
   ],
   "source": [
    "norm_train_msg[0]"
   ]
  },
  {
   "cell_type": "code",
   "execution_count": 17,
   "metadata": {},
   "outputs": [],
   "source": [
    "# encode: word to index\n",
    "##Tokenize\n",
    "tokenized_train = [tokenizer.tokenize(text) for text in norm_train_msg]\n",
    "tokenized_valid = [tokenizer.tokenize(text) for text in norm_valid_msg]"
   ]
  },
  {
   "cell_type": "code",
   "execution_count": 18,
   "metadata": {},
   "outputs": [
    {
     "data": {
      "text/plain": [
       "['valvular', 'tz']"
      ]
     },
     "execution_count": 18,
     "metadata": {},
     "output_type": "execute_result"
    }
   ],
   "source": [
    "tokenized_train[0]"
   ]
  },
  {
   "cell_type": "code",
   "execution_count": 19,
   "metadata": {},
   "outputs": [
    {
     "name": "stdout",
     "output_type": "stream",
     "text": [
      "Vocabulary Size: 47694\n",
      "Sample slice of vocabulary map: {'fast': 11, 'shipping': 12, 'securely': 13, 'item': 14, 'thank': 15, 'good': 16, 'job': 17, 'quality': 18, 'accommodate': 19, 'product': 20}\n"
     ]
    }
   ],
   "source": [
    "## build encode list\n",
    "from collections import Counter\n",
    "token_counter = Counter([token for review in tokenized_train for token in review])\n",
    "vocab_map = {item[0]: index+1 for index, item in enumerate(dict(token_counter).items())}\n",
    "max_index = np.max(list(vocab_map.values()))\n",
    "vocab_map['PAD_INDEX'] = 0\n",
    "vocab_map['NOT_FOUND_INDEX'] = max_index+1\n",
    "vocab_size = len(vocab_map)\n",
    "\n",
    "print('Vocabulary Size:', vocab_size)\n",
    "print('Sample slice of vocabulary map:', dict(list(vocab_map.items())[10:20]))"
   ]
  },
  {
   "cell_type": "code",
   "execution_count": 20,
   "metadata": {},
   "outputs": [],
   "source": [
    "## Convert tokenized text reviews to numeric vectors\n",
    "from keras.preprocessing import sequence\n",
    "max_len = np.max([len(review) for review in tokenized_train])\n",
    "train_X = [[vocab_map[token] for token in tokenized_review] for tokenized_review in tokenized_train]\n",
    "train_X = sequence.pad_sequences(train_X, maxlen=max_len)\n",
    "\n",
    "valid_X = [[vocab_map[token] if vocab_map.get(token) else vocab_map['NOT_FOUND_INDEX'] \n",
    "           for token in tokenized_review] \n",
    "              for tokenized_review in tokenized_valid]\n",
    "valid_X = sequence.pad_sequences(valid_X, maxlen=max_len)"
   ]
  },
  {
   "cell_type": "code",
   "execution_count": 21,
   "metadata": {},
   "outputs": [
    {
     "data": {
      "text/plain": [
       "array([  0,   0,   0,   0,   0,   0,   0,   0,   0,   0,   0,   0,   0,\n",
       "         0,   0,   0,   0,   0,   0,   0,   0,   0,   0,   0,   0,   0,\n",
       "         0,   0,   0,   0,   0,   0,   0,   0,   0,   0,   0,   0,   0,\n",
       "         0,   0,   0,   0,   0,   0,   0,   0,   0,   0,   0,   0,   0,\n",
       "         0,   0,   0,   0,   0,   0,   0,   0,   0,   0,   0,   0,   0,\n",
       "         0,   0,   0,   0,   0,   0,   0,   0,   0,   0,   0,   0,   0,\n",
       "         0,   0,   0,   0,   0,   0,   0,   0,   0,   0,   0,   0,   0,\n",
       "         0,   0,   0,   0,   0,   0,   0,   0,   0,   0,   0,   0,   0,\n",
       "         0,   0,   0,   0,   0,   0,   0,   0,   0,   0,   0,   0,   0,\n",
       "         0,   0,   0,   0,   0,   0,   0,   0,   0,   0,   0,   0,   0,\n",
       "         0,   0,   0,   0,   0,   0,   0,   0,   0,   0,   0,   0,   0,\n",
       "         0,   0,   0,   0,   0,   0,   0,   0,   0,   0,   0,   0,   0,\n",
       "         0,   0,   0,   0,   0,   0,   0,   0,   0,   0,   0,  20,  18,\n",
       "         8,  20, 114,  16,  42, 129,  16])"
      ]
     },
     "execution_count": 21,
     "metadata": {},
     "output_type": "execute_result"
    }
   ],
   "source": [
    "train_X[3000]"
   ]
  },
  {
   "cell_type": "code",
   "execution_count": 22,
   "metadata": {
    "scrolled": true
   },
   "outputs": [
    {
     "name": "stdout",
     "output_type": "stream",
     "text": [
      "Max length of train review vectors: 176\n",
      "Train review vectors shape: (110108, 176) Valid review vectors shape: (36703, 176)\n"
     ]
    }
   ],
   "source": [
    "print('Max length of train review vectors:', max_len)\n",
    "print('Train review vectors shape:', train_X.shape,'Valid review vectors shape:', valid_X.shape)"
   ]
  },
  {
   "cell_type": "code",
   "execution_count": 38,
   "metadata": {},
   "outputs": [
    {
     "data": {
      "text/plain": [
       "176"
      ]
     },
     "execution_count": 38,
     "metadata": {},
     "output_type": "execute_result"
    }
   ],
   "source": [
    "train_X.shape[1]"
   ]
  },
  {
   "cell_type": "markdown",
   "metadata": {},
   "source": [
    "# Step2 Modeling"
   ]
  },
  {
   "cell_type": "code",
   "execution_count": 24,
   "metadata": {},
   "outputs": [],
   "source": [
    "from sklearn import metrics\n",
    "def train_predict_model(classifier, \n",
    "                        train_features, train_labels, \n",
    "                        test_features, test_labels):\n",
    "    # build model    \n",
    "    classifier.fit(train_features, train_labels)\n",
    "    # predict using model\n",
    "    predictions = classifier.predict(test_features) \n",
    "    return predictions "
   ]
  },
  {
   "cell_type": "code",
   "execution_count": 25,
   "metadata": {},
   "outputs": [],
   "source": [
    "def get_metrics(true_labels, predicted_labels):\n",
    "    \n",
    "    print('Accuracy:', np.round(\n",
    "                        metrics.accuracy_score(true_labels, \n",
    "                                               predicted_labels),\n",
    "                        4))\n",
    "    print('Precision:', np.round(\n",
    "                        metrics.precision_score(true_labels, \n",
    "                                               predicted_labels,\n",
    "                                               average='weighted'),\n",
    "                        4))\n",
    "    print('Recall:', np.round(\n",
    "                        metrics.recall_score(true_labels, \n",
    "                                               predicted_labels,\n",
    "                                               average='weighted'),\n",
    "                        4))\n",
    "    print('F1 Score:', np.round(\n",
    "                        metrics.f1_score(true_labels, \n",
    "                                               predicted_labels,\n",
    "                                               average='weighted'),\n",
    "                        4))"
   ]
  },
  {
   "cell_type": "code",
   "execution_count": 26,
   "metadata": {},
   "outputs": [],
   "source": [
    "def display_classification_report(true_labels, predicted_labels, classes=[1,0]):\n",
    "\n",
    "    report = metrics.classification_report(y_true=true_labels, \n",
    "                                           y_pred=predicted_labels, \n",
    "                                           labels=classes) \n",
    "    print(report)"
   ]
  },
  {
   "cell_type": "code",
   "execution_count": 27,
   "metadata": {},
   "outputs": [],
   "source": [
    "def display_confusion_matrix(true_labels, predicted_labels, classes=[1,0]):\n",
    "    \n",
    "    total_classes = len(classes)\n",
    "    #level_labels = [total_classes*[0], list(range(total_classes))]\n",
    "\n",
    "    cm = metrics.confusion_matrix(y_true=true_labels, y_pred=predicted_labels)\n",
    "    cm_frame = pd.DataFrame(data=cm, \n",
    "                            index = [['Actual']*total_classes,classes],\n",
    "                            columns = [['Predicted']*total_classes,classes]) \n",
    "    print (cm_frame)"
   ]
  },
  {
   "cell_type": "code",
   "execution_count": 28,
   "metadata": {},
   "outputs": [],
   "source": [
    "def display_model_performance_metrics(true_labels, predicted_labels, classes):\n",
    "    print('Model Performance metrics:')\n",
    "    print('-'*30)\n",
    "    get_metrics(true_labels=true_labels, predicted_labels=predicted_labels)\n",
    "    print('\\nModel Classification report:')\n",
    "    print('-'*30)\n",
    "    display_classification_report(true_labels=true_labels, predicted_labels=predicted_labels, classes=classes)\n",
    "    print('\\nPrediction Confusion Matrix:')\n",
    "    print('-'*30)\n",
    "    display_confusion_matrix(true_labels=true_labels, predicted_labels=predicted_labels, \n",
    "                             classes=classes)"
   ]
  },
  {
   "cell_type": "markdown",
   "metadata": {},
   "source": [
    "## logistic regression"
   ]
  },
  {
   "cell_type": "code",
   "execution_count": 32,
   "metadata": {},
   "outputs": [],
   "source": [
    "def standard_scaler(X):\n",
    "    mean = X.mean(0)\n",
    "    sd = X.std(0)\n",
    "    return (X - mean)/sd \n",
    "def softmax(z):\n",
    "    return np.exp(z)/(np.exp(z).sum())\n",
    "\n",
    "def softmax_byrow(Z):\n",
    "    return (np.exp(Z)/(np.exp(Z).sum(1)[:,None]))\n",
    "\n",
    "def make_I_matrix(y):\n",
    "    I = np.zeros(shape = (len(y), len(np.unique(y))), dtype = int)\n",
    "    for j, target in enumerate(np.unique(y)):\n",
    "        I[:,j] = (y == target)\n",
    "    return I"
   ]
  },
  {
   "cell_type": "code",
   "execution_count": 33,
   "metadata": {},
   "outputs": [],
   "source": [
    "class MulticlassLogisticRegression:\n",
    "    \n",
    "    def fit(self, X, y, n_iter, lr, standardize = True, has_intercept = False):\n",
    "        \n",
    "        ### Record Info ###\n",
    "        if standardize:\n",
    "            X = standard_scaler(X) \n",
    "        if not has_intercept:\n",
    "            ones = np.ones(X.shape[0]).reshape(-1, 1)\n",
    "            X = np.concatenate((ones, X), axis = 1)\n",
    "        self.X = X\n",
    "        self.N, self.D = X.shape\n",
    "        self.y = y\n",
    "        self.K = len(np.unique(y))\n",
    "        self.n_iter = n_iter\n",
    "        self.lr = lr\n",
    "        \n",
    "        ### Fit B ###\n",
    "        B = np.random.randn(self.D*self.K).reshape((self.D, self.K))\n",
    "        self.I = make_I_matrix(self.y)\n",
    "        for i in range(n_iter):\n",
    "            Z = np.dot(self.X, B)\n",
    "            P = softmax_byrow(Z)\n",
    "            gradient = -np.dot(self.X.T, self.I - P)\n",
    "            B -= lr*gradient\n",
    "        \n",
    "        ### Return Values ###\n",
    "        self.B = B\n",
    "        self.Z = np.dot(self.X, B)\n",
    "        self.P = softmax_byrow(self.Z)\n",
    "        self.yhat = self.P.argmax(1)"
   ]
  },
  {
   "cell_type": "code",
   "execution_count": 85,
   "metadata": {},
   "outputs": [
    {
     "name": "stderr",
     "output_type": "stream",
     "text": [
      "C:\\Users\\USER\\anaconda3\\lib\\site-packages\\ipykernel_launcher.py:9: RuntimeWarning: overflow encountered in exp\n",
      "  if __name__ == '__main__':\n",
      "C:\\Users\\USER\\anaconda3\\lib\\site-packages\\ipykernel_launcher.py:9: RuntimeWarning: invalid value encountered in true_divide\n",
      "  if __name__ == '__main__':\n"
     ]
    },
    {
     "name": "stdout",
     "output_type": "stream",
     "text": [
      "In-sample accuracy: 0.0\n"
     ]
    }
   ],
   "source": [
    "multiclass_model = MulticlassLogisticRegression()\n",
    "multiclass_model.fit(train_X, rating_train, 100, 0.1)\n",
    "print('In-sample accuracy: '  + str(np.mean(multiclass_model.yhat == rating_train)))"
   ]
  },
  {
   "cell_type": "code",
   "execution_count": 39,
   "metadata": {},
   "outputs": [],
   "source": [
    "from sklearn.linear_model import SGDClassifier, LogisticRegression\n",
    "lr = LogisticRegression(penalty='l2', max_iter=100, C=1)"
   ]
  },
  {
   "cell_type": "code",
   "execution_count": 40,
   "metadata": {},
   "outputs": [
    {
     "name": "stdout",
     "output_type": "stream",
     "text": [
      "110108 110108 36703 36703\n"
     ]
    }
   ],
   "source": [
    "print(len(train_X), len(rating_train), len(valid_X),len(rating_valid))"
   ]
  },
  {
   "cell_type": "code",
   "execution_count": 41,
   "metadata": {},
   "outputs": [
    {
     "name": "stderr",
     "output_type": "stream",
     "text": [
      "C:\\Users\\USER\\anaconda3\\lib\\site-packages\\sklearn\\linear_model\\_logistic.py:765: ConvergenceWarning: lbfgs failed to converge (status=1):\n",
      "STOP: TOTAL NO. of ITERATIONS REACHED LIMIT.\n",
      "\n",
      "Increase the number of iterations (max_iter) or scale the data as shown in:\n",
      "    https://scikit-learn.org/stable/modules/preprocessing.html\n",
      "Please also refer to the documentation for alternative solver options:\n",
      "    https://scikit-learn.org/stable/modules/linear_model.html#logistic-regression\n",
      "  extra_warning_msg=_LOGISTIC_SOLVER_CONVERGENCE_MSG)\n"
     ]
    }
   ],
   "source": [
    "lr_predictions = train_predict_model(classifier=lr, \n",
    "                                         train_features=train_X, train_labels=rating_train,\n",
    "                                         test_features=valid_X, test_labels=rating_valid)\n"
   ]
  },
  {
   "cell_type": "code",
   "execution_count": 42,
   "metadata": {
    "scrolled": true
   },
   "outputs": [
    {
     "name": "stdout",
     "output_type": "stream",
     "text": [
      "Model Performance metrics:\n",
      "------------------------------\n",
      "Accuracy: 0.2777\n",
      "Precision: 0.2489\n",
      "Recall: 0.2777\n",
      "F1 Score: 0.1904\n",
      "\n",
      "Model Classification report:\n",
      "------------------------------\n",
      "              precision    recall  f1-score   support\n",
      "\n",
      "           1       0.20      0.04      0.07      3634\n",
      "           2       0.12      0.00      0.00      3215\n",
      "           3       0.23      0.10      0.14      8945\n",
      "           4       0.29      0.81      0.42     10436\n",
      "           5       0.29      0.06      0.11     10473\n",
      "\n",
      "    accuracy                           0.28     36703\n",
      "   macro avg       0.22      0.20      0.15     36703\n",
      "weighted avg       0.25      0.28      0.19     36703\n",
      "\n",
      "\n",
      "Prediction Confusion Matrix:\n",
      "------------------------------\n",
      "         Predicted                    \n",
      "                 1  2     3     4    5\n",
      "Actual 1       146  3   533  2672  280\n",
      "       2        73  2   340  2586  214\n",
      "       3       180  2   877  7404  482\n",
      "       4       169  6  1076  8491  694\n",
      "       5       155  4  1052  8585  677\n"
     ]
    }
   ],
   "source": [
    "display_model_performance_metrics(true_labels=rating_valid, predicted_labels=lr_predictions,\n",
    "                                      classes=[1,2,3,4,5])"
   ]
  },
  {
   "cell_type": "markdown",
   "metadata": {},
   "source": [
    "## SVM"
   ]
  },
  {
   "cell_type": "code",
   "execution_count": 31,
   "metadata": {},
   "outputs": [],
   "source": [
    "svm = SGDClassifier(loss='hinge', max_iter=100)"
   ]
  },
  {
   "cell_type": "code",
   "execution_count": 32,
   "metadata": {
    "scrolled": true
   },
   "outputs": [
    {
     "name": "stdout",
     "output_type": "stream",
     "text": [
      "Model Performance metrics:\n",
      "------------------------------\n",
      "Accuracy: 0.2222\n",
      "Precision: 0.2382\n",
      "Recall: 0.2222\n",
      "F1 Score: 0.2066\n",
      "\n",
      "Model Classification report:\n",
      "------------------------------\n",
      "              precision    recall  f1-score   support\n",
      "\n",
      "           1       0.12      0.13      0.12      3645\n",
      "           2       0.11      0.14      0.13      3173\n",
      "           3       0.24      0.48      0.32      8982\n",
      "           4       0.29      0.15      0.20     10495\n",
      "           5       0.26      0.13      0.17     10408\n",
      "\n",
      "    accuracy                           0.22     36703\n",
      "   macro avg       0.20      0.21      0.19     36703\n",
      "weighted avg       0.24      0.22      0.21     36703\n",
      "\n",
      "\n",
      "Prediction Confusion Matrix:\n",
      "------------------------------\n",
      "         Predicted                        \n",
      "                 1     2     3     4     5\n",
      "Actual 1       465   494  1668   514   504\n",
      "       2       409   458  1589   337   380\n",
      "       3       922   937  4317  1397  1409\n",
      "       4      1063  1156  5276  1585  1415\n",
      "       5      1095  1086  5341  1557  1329\n"
     ]
    },
    {
     "name": "stderr",
     "output_type": "stream",
     "text": [
      "C:\\Users\\USER\\anaconda3\\lib\\site-packages\\sklearn\\linear_model\\_stochastic_gradient.py:577: ConvergenceWarning: Maximum number of iteration reached before convergence. Consider increasing max_iter to improve the fit.\n",
      "  ConvergenceWarning)\n"
     ]
    }
   ],
   "source": [
    "svm_predictions = train_predict_model(classifier=svm, \n",
    "                                             train_features=train_X, train_labels=rating_train,\n",
    "                                             test_features=valid_X, test_labels=rating_valid)\n",
    "display_model_performance_metrics(true_labels=rating_valid, predicted_labels=svm_predictions,\n",
    "                                      classes=[1,2,3,4,5])"
   ]
  },
  {
   "cell_type": "markdown",
   "metadata": {},
   "source": [
    "## DNN"
   ]
  },
  {
   "cell_type": "code",
   "execution_count": 98,
   "metadata": {},
   "outputs": [],
   "source": [
    "from keras.models import Sequential\n",
    "from keras.layers import Dense, Embedding, Dropout, Activation, SpatialDropout1D, GlobalAveragePooling1D\n",
    "from keras.layers import LSTM\n",
    "from keras.layers.normalization import BatchNormalization"
   ]
  },
  {
   "cell_type": "code",
   "execution_count": 107,
   "metadata": {},
   "outputs": [],
   "source": [
    "def construct_deepnn_architecture(vocab_size,input_length):\n",
    "    dnn_model = Sequential()\n",
    "    dnn_model.add(Embedding(vocab_size,128, input_length = input_length, name=\"input_with_embedding\"))\n",
    "    dnn_model.add(GlobalAveragePooling1D( name=\"Global_Average_Pooling\"))\n",
    "    dnn_model.add(Dense(64, activation=\"relu\", name=\"layer_1\"))\n",
    "    dnn_model.add(Dense(32, activation=\"relu\", name=\"layer_2\"))\n",
    "    dnn_model.add(Dense(5, activation=\"softmax\", name=\"softmax_output\"))\n",
    "\n",
    "    dnn_model.compile(loss='categorical_crossentropy', optimizer='adam',                 \n",
    "                      metrics=['accuracy'])\n",
    "    return dnn_model"
   ]
  },
  {
   "cell_type": "code",
   "execution_count": 108,
   "metadata": {},
   "outputs": [],
   "source": [
    "dnn_embedding = construct_deepnn_architecture(vocab_size,train_X.shape[1])"
   ]
  },
  {
   "cell_type": "code",
   "execution_count": 109,
   "metadata": {},
   "outputs": [
    {
     "name": "stdout",
     "output_type": "stream",
     "text": [
      "Model: \"sequential_18\"\n",
      "_________________________________________________________________\n",
      "Layer (type)                 Output Shape              Param #   \n",
      "=================================================================\n",
      "input_with_embedding (Embedd (None, 176, 128)          6104832   \n",
      "_________________________________________________________________\n",
      "Global_Average_Pooling (Glob (None, 128)               0         \n",
      "_________________________________________________________________\n",
      "layer_1 (Dense)              (None, 64)                8256      \n",
      "_________________________________________________________________\n",
      "layer_2 (Dense)              (None, 32)                2080      \n",
      "_________________________________________________________________\n",
      "softmax_output (Dense)       (None, 5)                 165       \n",
      "=================================================================\n",
      "Total params: 6,115,333\n",
      "Trainable params: 6,115,333\n",
      "Non-trainable params: 0\n",
      "_________________________________________________________________\n",
      "None\n"
     ]
    }
   ],
   "source": [
    "print(dnn_embedding.summary())"
   ]
  },
  {
   "cell_type": "code",
   "execution_count": 110,
   "metadata": {},
   "outputs": [
    {
     "data": {
      "image/png": "[encoded data removed]",
      "text/plain": [
       "<IPython.core.display.Image object>"
      ]
     },
     "execution_count": 110,
     "metadata": {},
     "output_type": "execute_result"
    }
   ],
   "source": [
    "from keras.utils.vis_utils import plot_model\n",
    "plot_model(dnn_embedding, to_file='dmm_model.png', show_shapes=True, show_layer_names=True)"
   ]
  },
  {
   "cell_type": "code",
   "execution_count": 111,
   "metadata": {},
   "outputs": [
    {
     "name": "stdout",
     "output_type": "stream",
     "text": [
      "Train on 99097 samples, validate on 11011 samples\n",
      "Epoch 1/5\n",
      "99097/99097 [==============================] - 76s 772us/step - loss: 1.3235 - accuracy: 0.3600 - val_loss: 1.1792 - val_accuracy: 0.4256\n",
      "Epoch 2/5\n",
      "99097/99097 [==============================] - 80s 803us/step - loss: 1.1438 - accuracy: 0.4463 - val_loss: 1.1323 - val_accuracy: 0.4488\n",
      "Epoch 3/5\n",
      "99097/99097 [==============================] - 78s 788us/step - loss: 1.0833 - accuracy: 0.4752 - val_loss: 1.1239 - val_accuracy: 0.4651\n",
      "Epoch 4/5\n",
      "99097/99097 [==============================] - 78s 790us/step - loss: 1.0407 - accuracy: 0.4968 - val_loss: 1.1253 - val_accuracy: 0.4645\n",
      "Epoch 5/5\n",
      "99097/99097 [==============================] - 77s 781us/step - loss: 1.0001 - accuracy: 0.5146 - val_loss: 1.1272 - val_accuracy: 0.4641\n"
     ]
    },
    {
     "data": {
      "text/plain": [
       "<keras.engine.sequential.Sequential at 0x2036f77b688>"
      ]
     },
     "execution_count": 111,
     "metadata": {},
     "output_type": "execute_result"
    }
   ],
   "source": [
    "batch_size = 100\n",
    "dnn_embedding.fit(train_X, train_Y, epochs=5, batch_size=batch_size, \n",
    "            shuffle=True, validation_split=0.1, verbose=1)\n",
    "dnn_embedding"
   ]
  },
  {
   "cell_type": "code",
   "execution_count": 112,
   "metadata": {},
   "outputs": [],
   "source": [
    "y_pred = dnn_embedding.predict_classes(valid_X)\n",
    "dnn_predictions = le.inverse_transform(y_pred)"
   ]
  },
  {
   "cell_type": "code",
   "execution_count": 113,
   "metadata": {
    "scrolled": true
   },
   "outputs": [
    {
     "name": "stdout",
     "output_type": "stream",
     "text": [
      "Model Performance metrics:\n",
      "------------------------------\n",
      "Accuracy: 0.4658\n",
      "Precision: 0.4648\n",
      "Recall: 0.4658\n",
      "F1 Score: 0.3892\n",
      "\n",
      "Model Classification report:\n",
      "------------------------------\n",
      "              precision    recall  f1-score   support\n",
      "\n",
      "           1       0.53      0.76      0.62      3634\n",
      "           2       0.49      0.23      0.31      3215\n",
      "           3       0.49      0.63      0.55      8945\n",
      "           4       0.43      0.74      0.54     10436\n",
      "           5       0.45      0.02      0.04     10473\n",
      "\n",
      "    accuracy                           0.47     36703\n",
      "   macro avg       0.48      0.48      0.41     36703\n",
      "weighted avg       0.46      0.47      0.39     36703\n",
      "\n",
      "\n",
      "Prediction Confusion Matrix:\n",
      "------------------------------\n",
      "         Predicted                      \n",
      "                 1    2     3     4    5\n",
      "Actual 1      2747  233   506   136   12\n",
      "       2       965  737  1193   310   10\n",
      "       3       808  424  5640  2052   21\n",
      "       4       325   67  2066  7769  209\n",
      "       5       342   53  2055  7819  204\n"
     ]
    }
   ],
   "source": [
    "display_model_performance_metrics(true_labels=rating_valid, predicted_labels=dnn_predictions,\n",
    "                                      classes=[1,2,3,4,5])"
   ]
  },
  {
   "cell_type": "markdown",
   "metadata": {},
   "source": [
    "## LSTM"
   ]
  },
  {
   "cell_type": "code",
   "execution_count": 114,
   "metadata": {},
   "outputs": [],
   "source": [
    "def construct_lstm_architecture(num_input_features):\n",
    "    lstm_model = Sequential()\n",
    "    lstm_model.add(Embedding(input_dim=num_input_features, output_dim=128,input_length=max_len, name=\"input_with_embedding\"))\n",
    "    lstm_model.add(SpatialDropout1D(0.2))\n",
    "    lstm_model.add(LSTM(64, dropout=0.2, recurrent_dropout=0.2, name=\"LSTM_layer\"))\n",
    "    lstm_model.add(Dense(32, activation=\"relu\", name=\"relu_layer\"))\n",
    "    lstm_model.add(Dense(5, activation=\"softmax\",name=\"softmax_layer\"))\n",
    "\n",
    "    lstm_model.compile(loss='categorical_crossentropy', optimizer='adam',                 \n",
    "                      metrics=['accuracy'])\n",
    "    return lstm_model"
   ]
  },
  {
   "cell_type": "code",
   "execution_count": 115,
   "metadata": {},
   "outputs": [],
   "source": [
    "lstm_embedding = construct_lstm_architecture(num_input_features=vocab_size)"
   ]
  },
  {
   "cell_type": "code",
   "execution_count": 116,
   "metadata": {},
   "outputs": [
    {
     "name": "stdout",
     "output_type": "stream",
     "text": [
      "Model: \"sequential_19\"\n",
      "_________________________________________________________________\n",
      "Layer (type)                 Output Shape              Param #   \n",
      "=================================================================\n",
      "input_with_embedding (Embedd (None, 176, 128)          6104832   \n",
      "_________________________________________________________________\n",
      "spatial_dropout1d_1 (Spatial (None, 176, 128)          0         \n",
      "_________________________________________________________________\n",
      "LSTM_layer (LSTM)            (None, 64)                49408     \n",
      "_________________________________________________________________\n",
      "relu_layer (Dense)           (None, 32)                2080      \n",
      "_________________________________________________________________\n",
      "softmax_layer (Dense)        (None, 5)                 165       \n",
      "=================================================================\n",
      "Total params: 6,156,485\n",
      "Trainable params: 6,156,485\n",
      "Non-trainable params: 0\n",
      "_________________________________________________________________\n",
      "None\n"
     ]
    }
   ],
   "source": [
    "print(lstm_embedding.summary())"
   ]
  },
  {
   "cell_type": "code",
   "execution_count": 117,
   "metadata": {},
   "outputs": [
    {
     "data": {
      "image/png": "[encoded data removed]",
      "text/plain": [
       "<IPython.core.display.Image object>"
      ]
     },
     "execution_count": 117,
     "metadata": {},
     "output_type": "execute_result"
    }
   ],
   "source": [
    "plot_model(lstm_embedding, to_file='lstm_model.png', show_shapes=True, show_layer_names=True)"
   ]
  },
  {
   "cell_type": "code",
   "execution_count": 118,
   "metadata": {},
   "outputs": [
    {
     "name": "stdout",
     "output_type": "stream",
     "text": [
      "Train on 99097 samples, validate on 11011 samples\n",
      "Epoch 1/10\n",
      "99097/99097 [==============================] - 295s 3ms/step - loss: 1.1728 - accuracy: 0.4383 - val_loss: 1.0846 - val_accuracy: 0.4713\n",
      "Epoch 2/10\n",
      "99097/99097 [==============================] - 285s 3ms/step - loss: 1.0359 - accuracy: 0.4966 - val_loss: 1.0942 - val_accuracy: 0.4732\n",
      "Epoch 3/10\n",
      "99097/99097 [==============================] - 284s 3ms/step - loss: 0.9609 - accuracy: 0.5333 - val_loss: 1.1193 - val_accuracy: 0.4724\n",
      "Epoch 4/10\n",
      "99097/99097 [==============================] - 288s 3ms/step - loss: 0.8977 - accuracy: 0.5691 - val_loss: 1.1512 - val_accuracy: 0.4604\n",
      "Epoch 5/10\n",
      "99097/99097 [==============================] - 290s 3ms/step - loss: 0.8356 - accuracy: 0.6037 - val_loss: 1.2062 - val_accuracy: 0.4592\n",
      "Epoch 6/10\n",
      "99097/99097 [==============================] - 287s 3ms/step - loss: 0.7747 - accuracy: 0.6367 - val_loss: 1.2847 - val_accuracy: 0.4624\n",
      "Epoch 7/10\n",
      "99097/99097 [==============================] - 287s 3ms/step - loss: 0.7249 - accuracy: 0.6595 - val_loss: 1.3623 - val_accuracy: 0.4567\n",
      "Epoch 8/10\n",
      "99097/99097 [==============================] - 291s 3ms/step - loss: 0.6798 - accuracy: 0.6805 - val_loss: 1.4530 - val_accuracy: 0.4531\n",
      "Epoch 9/10\n",
      "99097/99097 [==============================] - 287s 3ms/step - loss: 0.6460 - accuracy: 0.6935 - val_loss: 1.5288 - val_accuracy: 0.4529\n",
      "Epoch 10/10\n",
      "99097/99097 [==============================] - 289s 3ms/step - loss: 0.6149 - accuracy: 0.7081 - val_loss: 1.6188 - val_accuracy: 0.4524\n"
     ]
    },
    {
     "data": {
      "text/plain": [
       "<keras.engine.sequential.Sequential at 0x20377db96c8>"
      ]
     },
     "execution_count": 118,
     "metadata": {},
     "output_type": "execute_result"
    }
   ],
   "source": [
    "batch_size = 100\n",
    "lstm_embedding.fit(train_X, train_Y, epochs=10, batch_size=batch_size, \n",
    "            shuffle=True, validation_split=0.1, verbose=1)\n",
    "lstm_embedding"
   ]
  },
  {
   "cell_type": "code",
   "execution_count": 119,
   "metadata": {},
   "outputs": [],
   "source": [
    "y_pred = lstm_embedding.predict_classes(valid_X)\n",
    "lstm_predictions = le.inverse_transform(y_pred)"
   ]
  },
  {
   "cell_type": "code",
   "execution_count": 120,
   "metadata": {},
   "outputs": [
    {
     "name": "stdout",
     "output_type": "stream",
     "text": [
      "Model Performance metrics:\n",
      "------------------------------\n",
      "Accuracy: 0.4591\n",
      "Precision: 0.4542\n",
      "Recall: 0.4591\n",
      "F1 Score: 0.4532\n",
      "\n",
      "Model Classification report:\n",
      "------------------------------\n",
      "              precision    recall  f1-score   support\n",
      "\n",
      "           1       0.60      0.61      0.61      3634\n",
      "           2       0.38      0.35      0.37      3215\n",
      "           3       0.52      0.55      0.53      8945\n",
      "           4       0.43      0.52      0.47     10436\n",
      "           5       0.39      0.29      0.34     10473\n",
      "\n",
      "    accuracy                           0.46     36703\n",
      "   macro avg       0.47      0.47      0.46     36703\n",
      "weighted avg       0.45      0.46      0.45     36703\n",
      "\n",
      "\n",
      "Prediction Confusion Matrix:\n",
      "------------------------------\n",
      "         Predicted                        \n",
      "                 1     2     3     4     5\n",
      "Actual 1      2232   633   526   143   100\n",
      "       2       604  1128   954   286   243\n",
      "       3       513   739  4931  1342  1420\n",
      "       4       184   222  1533  5476  3021\n",
      "       5       198   216  1561  5413  3085\n"
     ]
    }
   ],
   "source": [
    "display_model_performance_metrics(true_labels=rating_valid, predicted_labels=lstm_predictions,\n",
    "                                      classes=[1,2,3,4,5])"
   ]
  },
  {
   "cell_type": "markdown",
   "metadata": {},
   "source": [
    "## LSTM + FastText"
   ]
  },
  {
   "cell_type": "code",
   "execution_count": 143,
   "metadata": {},
   "outputs": [],
   "source": [
    "#https://github.com/emmanuellaanggi/disaster_tweet_sentiment/blob/master/(Medium)_Text_Classification_Disaster_Tweet_.ipynb\n",
    "import requests, zipfile, io\n",
    "zip_file_url = \"https://dl.fbaipublicfiles.com/fasttext/vectors-english/crawl-300d-2M.vec.zip\"\n",
    "r = requests.get(zip_file_url)\n",
    "z = zipfile.ZipFile(io.BytesIO(r.content))\n",
    "z.extractall()"
   ]
  },
  {
   "cell_type": "code",
   "execution_count": 146,
   "metadata": {},
   "outputs": [
    {
     "name": "stderr",
     "output_type": "stream",
     "text": [
      "1927it [00:00, 9469.90it/s]"
     ]
    },
    {
     "name": "stdout",
     "output_type": "stream",
     "text": [
      "loading word embeddings...\n"
     ]
    },
    {
     "name": "stderr",
     "output_type": "stream",
     "text": [
      "1999996it [03:34, 9325.71it/s]"
     ]
    },
    {
     "name": "stdout",
     "output_type": "stream",
     "text": [
      "found 1999996 word vectors\n"
     ]
    },
    {
     "name": "stderr",
     "output_type": "stream",
     "text": [
      "\n"
     ]
    }
   ],
   "source": [
    "import codecs\n",
    "from tqdm import tqdm\n",
    "\n",
    "print('loading word embeddings...')\n",
    "\n",
    "embeddings_index = {}\n",
    "f = codecs.open('crawl-300d-2M.vec', encoding='utf-8')\n",
    "\n",
    "for line in tqdm(f):\n",
    "    values = line.rstrip().rsplit(' ')\n",
    "    word = values[0]\n",
    "    coefs = np.asarray(values[1:], dtype='float32')\n",
    "    embeddings_index[word] = coefs\n",
    "f.close()\n",
    "\n",
    "print('found %s word vectors' % len(embeddings_index))"
   ]
  },
  {
   "cell_type": "code",
   "execution_count": 148,
   "metadata": {},
   "outputs": [],
   "source": [
    "MAX_NB_WORDS = 100000\n",
    "embed_dim = 300 "
   ]
  },
  {
   "cell_type": "code",
   "execution_count": 149,
   "metadata": {},
   "outputs": [
    {
     "name": "stdout",
     "output_type": "stream",
     "text": [
      "preparing embedding matrix...\n",
      "number of null word embeddings: 27830\n"
     ]
    }
   ],
   "source": [
    "#embedding matrix\n",
    "\n",
    "print('preparing embedding matrix...')\n",
    "\n",
    "words_not_found = []\n",
    "nb_words = min(MAX_NB_WORDS, len(vocab_map)+1)\n",
    "embedding_matrix = np.zeros((nb_words, embed_dim))\n",
    "\n",
    "for word, i in vocab_map.items():\n",
    "    if i >= nb_words:\n",
    "        continue\n",
    "    embedding_vector = embeddings_index.get(word)\n",
    "    if (embedding_vector is not None) and len(embedding_vector) > 0:\n",
    "        # words not found in embedding index will be all-zeros.\n",
    "        embedding_matrix[i] = embedding_vector\n",
    "    else:\n",
    "        words_not_found.append(word)\n",
    "print('number of null word embeddings: %d' % np.sum(np.sum(embedding_matrix, axis=1) == 0))"
   ]
  },
  {
   "cell_type": "code",
   "execution_count": 150,
   "metadata": {},
   "outputs": [
    {
     "name": "stdout",
     "output_type": "stream",
     "text": [
      "sample words not found:  ['talag' 'dineli' 'topppppppppp' 'dehdehdeh' 'kasiiiiiih' 'anlakas'\n",
      " 'racun2' 'bklo' 'denganproduk' 'diexpedisinyaaaaaa']\n"
     ]
    }
   ],
   "source": [
    "print(\"sample words not found: \", np.random.choice(words_not_found, 10))"
   ]
  },
  {
   "cell_type": "code",
   "execution_count": 162,
   "metadata": {},
   "outputs": [],
   "source": [
    "def construct_lstm_embedding_architecture(num_input_features):\n",
    "    lstm_em_model = Sequential()\n",
    "    lstm_em_model.add(Embedding(input_dim=num_input_features, output_dim=embed_dim,\n",
    "                                input_length=max_len, weights=[embedding_matrix],trainable=False))\n",
    "    lstm_em_model.add(SpatialDropout1D(0.2))\n",
    "    lstm_em_model.add(LSTM(64, dropout=0.2, recurrent_dropout=0.2))\n",
    "    lstm_em_model.add(Dense(32, activation=\"relu\"))\n",
    "    lstm_em_model.add(Dropout(0.4))\n",
    "    lstm_em_model.add(Dense(5, activation=\"softmax\"))\n",
    "\n",
    "    lstm_em_model.compile(loss='categorical_crossentropy', optimizer='adam',                 \n",
    "                      metrics=['accuracy'])\n",
    "    return lstm_em_model"
   ]
  },
  {
   "cell_type": "code",
   "execution_count": 163,
   "metadata": {},
   "outputs": [],
   "source": [
    "lstm_embedding_fast = construct_lstm_embedding_architecture(num_input_features=vocab_size+1)"
   ]
  },
  {
   "cell_type": "code",
   "execution_count": 164,
   "metadata": {},
   "outputs": [
    {
     "name": "stdout",
     "output_type": "stream",
     "text": [
      "Model: \"sequential_24\"\n",
      "_________________________________________________________________\n",
      "Layer (type)                 Output Shape              Param #   \n",
      "=================================================================\n",
      "embedding_19 (Embedding)     (None, 176, 300)          14307300  \n",
      "_________________________________________________________________\n",
      "spatial_dropout1d_4 (Spatial (None, 176, 300)          0         \n",
      "_________________________________________________________________\n",
      "lstm_2 (LSTM)                (None, 64)                93440     \n",
      "_________________________________________________________________\n",
      "dense_69 (Dense)             (None, 32)                2080      \n",
      "_________________________________________________________________\n",
      "dropout_37 (Dropout)         (None, 32)                0         \n",
      "_________________________________________________________________\n",
      "dense_70 (Dense)             (None, 5)                 165       \n",
      "=================================================================\n",
      "Total params: 14,402,985\n",
      "Trainable params: 95,685\n",
      "Non-trainable params: 14,307,300\n",
      "_________________________________________________________________\n",
      "None\n"
     ]
    }
   ],
   "source": [
    "print(lstm_embedding_fast.summary())"
   ]
  },
  {
   "cell_type": "code",
   "execution_count": 165,
   "metadata": {},
   "outputs": [
    {
     "data": {
      "image/png": "[encoded data removed]",
      "text/plain": [
       "<IPython.core.display.Image object>"
      ]
     },
     "execution_count": 165,
     "metadata": {},
     "output_type": "execute_result"
    }
   ],
   "source": [
    "plot_model(lstm_embedding_fast, to_file='lstm_em_model.png', show_shapes=True, show_layer_names=True)"
   ]
  },
  {
   "cell_type": "code",
   "execution_count": 166,
   "metadata": {},
   "outputs": [
    {
     "name": "stdout",
     "output_type": "stream",
     "text": [
      "Train on 99097 samples, validate on 11011 samples\n",
      "Epoch 1/10\n",
      "99097/99097 [==============================] - 271s 3ms/step - loss: 1.2545 - accuracy: 0.4088 - val_loss: 1.1318 - val_accuracy: 0.4633\n",
      "Epoch 2/10\n",
      "99097/99097 [==============================] - 264s 3ms/step - loss: 1.1669 - accuracy: 0.4463 - val_loss: 1.1061 - val_accuracy: 0.4626\n",
      "Epoch 3/10\n",
      "99097/99097 [==============================] - 261s 3ms/step - loss: 1.1383 - accuracy: 0.4555 - val_loss: 1.0869 - val_accuracy: 0.4765\n",
      "Epoch 4/10\n",
      "99097/99097 [==============================] - 261s 3ms/step - loss: 1.1163 - accuracy: 0.4655 - val_loss: 1.0808 - val_accuracy: 0.4802\n",
      "Epoch 5/10\n",
      "99097/99097 [==============================] - 262s 3ms/step - loss: 1.1227 - accuracy: 0.4626 - val_loss: 1.0855 - val_accuracy: 0.4674\n",
      "Epoch 6/10\n",
      "99097/99097 [==============================] - 263s 3ms/step - loss: 1.1035 - accuracy: 0.4704 - val_loss: 1.0746 - val_accuracy: 0.4826\n",
      "Epoch 7/10\n",
      "99097/99097 [==============================] - 262s 3ms/step - loss: 1.0913 - accuracy: 0.4750 - val_loss: 1.0667 - val_accuracy: 0.4738\n",
      "Epoch 8/10\n",
      "99097/99097 [==============================] - 261s 3ms/step - loss: 1.0847 - accuracy: 0.4787 - val_loss: 1.0639 - val_accuracy: 0.4766\n",
      "Epoch 9/10\n",
      "99097/99097 [==============================] - 266s 3ms/step - loss: 1.0756 - accuracy: 0.4787 - val_loss: 1.0621 - val_accuracy: 0.4798\n",
      "Epoch 10/10\n",
      "99097/99097 [==============================] - 263s 3ms/step - loss: 1.0687 - accuracy: 0.4822 - val_loss: 1.0612 - val_accuracy: 0.4880\n"
     ]
    },
    {
     "data": {
      "text/plain": [
       "<keras.engine.sequential.Sequential at 0x2564b601b48>"
      ]
     },
     "execution_count": 166,
     "metadata": {},
     "output_type": "execute_result"
    }
   ],
   "source": [
    "batch_size = 100\n",
    "lstm_embedding_fast.fit(train_X, train_Y, epochs=10, batch_size=batch_size, \n",
    "            shuffle=True, validation_split=0.1, verbose=1)\n",
    "lstm_embedding_fast"
   ]
  },
  {
   "cell_type": "code",
   "execution_count": 167,
   "metadata": {},
   "outputs": [],
   "source": [
    "y_pred = lstm_embedding_fast.predict_classes(valid_X)\n",
    "lstm_em_predictions = le.inverse_transform(y_pred)"
   ]
  },
  {
   "cell_type": "code",
   "execution_count": 168,
   "metadata": {},
   "outputs": [
    {
     "data": {
      "text/plain": [
       "array([3, 4, 3, ..., 4, 4, 5], dtype=int64)"
      ]
     },
     "execution_count": 168,
     "metadata": {},
     "output_type": "execute_result"
    }
   ],
   "source": [
    "lstm_em_predictions"
   ]
  },
  {
   "cell_type": "code",
   "execution_count": 169,
   "metadata": {},
   "outputs": [
    {
     "name": "stdout",
     "output_type": "stream",
     "text": [
      "Model Performance metrics:\n",
      "------------------------------\n",
      "Accuracy: 0.4807\n",
      "Precision: 0.4998\n",
      "Recall: 0.4807\n",
      "F1 Score: 0.4267\n",
      "\n",
      "Model Classification report:\n",
      "------------------------------\n",
      "              precision    recall  f1-score   support\n",
      "\n",
      "           1       0.55      0.78      0.64      3645\n",
      "           2       0.69      0.21      0.32      3173\n",
      "           3       0.52      0.63      0.57      8982\n",
      "           4       0.43      0.72      0.53     10495\n",
      "           5       0.48      0.09      0.15     10408\n",
      "\n",
      "    accuracy                           0.48     36703\n",
      "   macro avg       0.53      0.49      0.44     36703\n",
      "weighted avg       0.50      0.48      0.43     36703\n",
      "\n",
      "\n",
      "Prediction Confusion Matrix:\n",
      "------------------------------\n",
      "         Predicted                      \n",
      "                 1    2     3     4    5\n",
      "Actual 1      2841   85   574   142    3\n",
      "       2      1022  664  1194   285    8\n",
      "       3       798  174  5670  2271   69\n",
      "       4       258   24  1762  7538  913\n",
      "       5       264   19  1705  7490  930\n"
     ]
    }
   ],
   "source": [
    "display_model_performance_metrics(true_labels=rating_valid, predicted_labels=lstm_em_predictions,\n",
    "                                      classes=[1,2,3,4,5])"
   ]
  },
  {
   "cell_type": "code",
   "execution_count": null,
   "metadata": {},
   "outputs": [],
   "source": [
    "#https://www.analyticsvidhya.com/blog/2015/10/6-practices-enhance-performance-text-classification-model/"
   ]
  }
 ],
 "metadata": {
  "kernelspec": {
   "display_name": "Python 3",
   "language": "python",
   "name": "python3"
  },
  "language_info": {
   "codemirror_mode": {
    "name": "ipython",
    "version": 3
   },
   "file_extension": ".py",
   "mimetype": "text/x-python",
   "name": "python",
   "nbconvert_exporter": "python",
   "pygments_lexer": "ipython3",
   "version": "3.7.6"
  }
 },
 "nbformat": 4,
 "nbformat_minor": 4
}
