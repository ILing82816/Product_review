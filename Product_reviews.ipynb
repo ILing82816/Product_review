{
 "cells": [
  {
   "cell_type": "code",
   "execution_count": 3,
   "metadata": {},
   "outputs": [],
   "source": [
    "#package\n",
    "import pandas as pd\n",
    "import numpy as np\n",
    "from pandas import Series,DataFrame\n",
    "\n",
    "import spacy\n",
    "import string\n",
    "from nltk.corpus import stopwords\n",
    "import nltk\n",
    "from nltk.tokenize.toktok import ToktokTokenizer\n",
    "import re\n",
    "from bs4 import BeautifulSoup\n",
    "from contractions import CONTRACTION_MAP\n",
    "import unicodedata\n",
    "\n",
    "import plotly.express as px\n",
    "import plotly.graph_objects as go\n",
    "from plotly.subplots import make_subplots\n",
    "import matplotlib.pyplot as plt\n",
    "import seaborn as sns\n"
   ]
  },
  {
   "cell_type": "code",
   "execution_count": 4,
   "metadata": {},
   "outputs": [],
   "source": [
    "# Load data\n",
    "path = 'D:/USA 2021 Spring/Data_science/train.csv'\n",
    "traindf = pd.read_csv(path)"
   ]
  },
  {
   "cell_type": "code",
   "execution_count": 5,
   "metadata": {},
   "outputs": [],
   "source": [
    "path = 'D:/USA 2021 Spring/Data_science/test.csv'\n",
    "testdf = pd.read_csv(path)"
   ]
  },
  {
   "cell_type": "code",
   "execution_count": 6,
   "metadata": {},
   "outputs": [
    {
     "data": {
      "text/html": [
       "<div>\n",
       "<style scoped>\n",
       "    .dataframe tbody tr th:only-of-type {\n",
       "        vertical-align: middle;\n",
       "    }\n",
       "\n",
       "    .dataframe tbody tr th {\n",
       "        vertical-align: top;\n",
       "    }\n",
       "\n",
       "    .dataframe thead th {\n",
       "        text-align: right;\n",
       "    }\n",
       "</style>\n",
       "<table border=\"1\" class=\"dataframe\">\n",
       "  <thead>\n",
       "    <tr style=\"text-align: right;\">\n",
       "      <th></th>\n",
       "      <th>review_id</th>\n",
       "      <th>review</th>\n",
       "      <th>rating</th>\n",
       "    </tr>\n",
       "  </thead>\n",
       "  <tbody>\n",
       "    <tr>\n",
       "      <th>0</th>\n",
       "      <td>0</td>\n",
       "      <td>Ga disappointed neat products .. Meletot Hilsn...</td>\n",
       "      <td>1</td>\n",
       "    </tr>\n",
       "    <tr>\n",
       "      <th>1</th>\n",
       "      <td>1</td>\n",
       "      <td>Rdtanya replace broken glass, broken chargernya</td>\n",
       "      <td>1</td>\n",
       "    </tr>\n",
       "    <tr>\n",
       "      <th>2</th>\n",
       "      <td>2</td>\n",
       "      <td>Nyesel bngt dsni shopping antecedent photo mes...</td>\n",
       "      <td>1</td>\n",
       "    </tr>\n",
       "    <tr>\n",
       "      <th>3</th>\n",
       "      <td>3</td>\n",
       "      <td>Sent a light blue suit goods ga want a refund</td>\n",
       "      <td>1</td>\n",
       "    </tr>\n",
       "    <tr>\n",
       "      <th>4</th>\n",
       "      <td>4</td>\n",
       "      <td>Pendants came with dents and scratches on its ...</td>\n",
       "      <td>1</td>\n",
       "    </tr>\n",
       "  </tbody>\n",
       "</table>\n",
       "</div>"
      ],
      "text/plain": [
       "   review_id                                             review  rating\n",
       "0          0  Ga disappointed neat products .. Meletot Hilsn...       1\n",
       "1          1    Rdtanya replace broken glass, broken chargernya       1\n",
       "2          2  Nyesel bngt dsni shopping antecedent photo mes...       1\n",
       "3          3      Sent a light blue suit goods ga want a refund       1\n",
       "4          4  Pendants came with dents and scratches on its ...       1"
      ]
     },
     "metadata": {},
     "output_type": "display_data"
    },
    {
     "data": {
      "text/html": [
       "<div>\n",
       "<style scoped>\n",
       "    .dataframe tbody tr th:only-of-type {\n",
       "        vertical-align: middle;\n",
       "    }\n",
       "\n",
       "    .dataframe tbody tr th {\n",
       "        vertical-align: top;\n",
       "    }\n",
       "\n",
       "    .dataframe thead th {\n",
       "        text-align: right;\n",
       "    }\n",
       "</style>\n",
       "<table border=\"1\" class=\"dataframe\">\n",
       "  <thead>\n",
       "    <tr style=\"text-align: right;\">\n",
       "      <th></th>\n",
       "      <th>review_id</th>\n",
       "      <th>review</th>\n",
       "    </tr>\n",
       "  </thead>\n",
       "  <tbody>\n",
       "    <tr>\n",
       "      <th>0</th>\n",
       "      <td>1</td>\n",
       "      <td>Great danger, cool, motif and cantik2 jg model...</td>\n",
       "    </tr>\n",
       "    <tr>\n",
       "      <th>1</th>\n",
       "      <td>2</td>\n",
       "      <td>One of the shades don't fit well</td>\n",
       "    </tr>\n",
       "    <tr>\n",
       "      <th>2</th>\n",
       "      <td>3</td>\n",
       "      <td>Very comfortable</td>\n",
       "    </tr>\n",
       "    <tr>\n",
       "      <th>3</th>\n",
       "      <td>4</td>\n",
       "      <td>Fast delivery. Product expiry is on Dec 2022. ...</td>\n",
       "    </tr>\n",
       "    <tr>\n",
       "      <th>4</th>\n",
       "      <td>5</td>\n",
       "      <td>it's sooooo cute! i like playing with the glit...</td>\n",
       "    </tr>\n",
       "  </tbody>\n",
       "</table>\n",
       "</div>"
      ],
      "text/plain": [
       "   review_id                                             review\n",
       "0          1  Great danger, cool, motif and cantik2 jg model...\n",
       "1          2                   One of the shades don't fit well\n",
       "2          3                                   Very comfortable\n",
       "3          4  Fast delivery. Product expiry is on Dec 2022. ...\n",
       "4          5  it's sooooo cute! i like playing with the glit..."
      ]
     },
     "metadata": {},
     "output_type": "display_data"
    }
   ],
   "source": [
    "display(traindf.head(), testdf.head())"
   ]
  },
  {
   "cell_type": "markdown",
   "metadata": {},
   "source": [
    "# Step 1 Exploration and Data Clean"
   ]
  },
  {
   "cell_type": "markdown",
   "metadata": {},
   "source": [
    "## Data information"
   ]
  },
  {
   "cell_type": "code",
   "execution_count": 7,
   "metadata": {},
   "outputs": [
    {
     "name": "stdout",
     "output_type": "stream",
     "text": [
      "<class 'pandas.core.frame.DataFrame'>\n",
      "RangeIndex: 146811 entries, 0 to 146810\n",
      "Data columns (total 3 columns):\n",
      " #   Column     Non-Null Count   Dtype \n",
      "---  ------     --------------   ----- \n",
      " 0   review_id  146811 non-null  int64 \n",
      " 1   review     146811 non-null  object\n",
      " 2   rating     146811 non-null  int64 \n",
      "dtypes: int64(2), object(1)\n",
      "memory usage: 3.4+ MB\n"
     ]
    }
   ],
   "source": [
    "traindf.info()"
   ]
  },
  {
   "cell_type": "code",
   "execution_count": 8,
   "metadata": {},
   "outputs": [
    {
     "data": {
      "text/plain": [
       "4    41865\n",
       "5    41515\n",
       "3    35941\n",
       "1    14785\n",
       "2    12705\n",
       "Name: rating, dtype: int64"
      ]
     },
     "execution_count": 8,
     "metadata": {},
     "output_type": "execute_result"
    }
   ],
   "source": [
    "traindf[\"rating\"].value_counts()"
   ]
  },
  {
   "cell_type": "markdown",
   "metadata": {},
   "source": [
    "## Text Pre-processing"
   ]
  },
  {
   "cell_type": "code",
   "execution_count": 9,
   "metadata": {},
   "outputs": [
    {
     "name": "stdout",
     "output_type": "stream",
     "text": [
      "110108 110108 36703 36703\n"
     ]
    }
   ],
   "source": [
    "from sklearn.model_selection import train_test_split\n",
    "\n",
    "msg_train,msg_valid,rating_train,rating_valid = train_test_split(traindf['review'],traindf['rating'])\n",
    "\n",
    "print(len(msg_train), len(rating_train), len(msg_valid),len(rating_valid))"
   ]
  },
  {
   "cell_type": "code",
   "execution_count": 91,
   "metadata": {},
   "outputs": [],
   "source": [
    "from keras.utils import np_utils\n",
    "from sklearn.preprocessing import LabelEncoder\n",
    "le = LabelEncoder()\n",
    "\n",
    "le_train = le.fit_transform(rating_train)\n",
    "train_Y = np_utils.to_categorical(le_train)\n",
    "\n",
    "le_valid = le.fit_transform(rating_valid)\n",
    "valid_Y =np_utils.to_categorical(le_valid)"
   ]
  },
  {
   "cell_type": "code",
   "execution_count": 107,
   "metadata": {},
   "outputs": [
    {
     "data": {
      "text/plain": [
       "array([[0., 1., 0., 0., 0.],\n",
       "       [0., 0., 0., 1., 0.],\n",
       "       [0., 0., 1., 0., 0.],\n",
       "       ...,\n",
       "       [0., 0., 1., 0., 0.],\n",
       "       [0., 0., 0., 1., 0.],\n",
       "       [0., 0., 1., 0., 0.]], dtype=float32)"
      ]
     },
     "execution_count": 107,
     "metadata": {},
     "output_type": "execute_result"
    }
   ],
   "source": [
    "train_Y"
   ]
  },
  {
   "cell_type": "code",
   "execution_count": 10,
   "metadata": {},
   "outputs": [],
   "source": [
    "# normalize\n",
    "## remove negation words from stopword_list\n",
    "nlp = spacy.load('en_core_web_lg')\n",
    "tokenizer = ToktokTokenizer()\n",
    "stopword_list = nltk.corpus.stopwords.words('english')\n",
    "stopword_list.remove('no')\n",
    "stopword_list.remove('not')"
   ]
  },
  {
   "cell_type": "code",
   "execution_count": 11,
   "metadata": {},
   "outputs": [],
   "source": [
    "def strip_html_tags(text):\n",
    "    soup = BeautifulSoup(text, \"html.parser\")\n",
    "    stripped_text = soup.get_text()\n",
    "    return stripped_text\n",
    "def remove_accented_chars(text):\n",
    "    text = unicodedata.normalize('NFKD', text).encode('ascii', 'ignore').decode('utf-8', 'ignore')\n",
    "    return text\n",
    "def expand_contractions(text, contraction_mapping=CONTRACTION_MAP):\n",
    "    \n",
    "    contractions_pattern = re.compile('({})'.format('|'.join(contraction_mapping.keys())), \n",
    "                                      flags=re.IGNORECASE|re.DOTALL)\n",
    "    def expand_match(contraction):\n",
    "        match = contraction.group(0)\n",
    "        first_char = match[0]\n",
    "        expanded_contraction = contraction_mapping.get(match)\\\n",
    "                                if contraction_mapping.get(match)\\\n",
    "                                else contraction_mapping.get(match.lower())                       \n",
    "        expanded_contraction = first_char+expanded_contraction[1:]\n",
    "        return expanded_contraction\n",
    "        \n",
    "    expanded_text = contractions_pattern.sub(expand_match, text)\n",
    "    expanded_text = re.sub(\"'\", \"\", expanded_text)\n",
    "    return expanded_text\n",
    "def lemmatize_text(text):\n",
    "    text = nlp(text)\n",
    "    text = ' '.join([word.lemma_ if word.lemma_ != '-PRON-' else word.text for word in text])\n",
    "    return text\n",
    "def remove_special_characters(text):\n",
    "    text = re.sub('[^a-zA-z0-9\\s]', '', text)\n",
    "    return text\n",
    "def remove_stopwords(text, is_lower_case=False):\n",
    "    tokens = tokenizer.tokenize(text)\n",
    "    tokens = [token.strip() for token in tokens]\n",
    "    if is_lower_case:\n",
    "        filtered_tokens = [token for token in tokens if token not in stopword_list]\n",
    "    else:\n",
    "        filtered_tokens = [token for token in tokens if token.lower() not in stopword_list]\n",
    "    filtered_text = ' '.join(filtered_tokens)    \n",
    "    return filtered_text\n",
    "\n",
    "\n",
    "def normalize_corpus(corpus, html_stripping=True, contraction_expansion=True,\n",
    "                     accented_char_removal=True, text_lower_case=True, \n",
    "                     text_lemmatization=True, special_char_removal=True, \n",
    "                     stopword_removal=True):\n",
    "    \n",
    "    normalized_corpus = []\n",
    "    # normalize each document in the corpus\n",
    "    for doc in corpus:\n",
    "        # strip HTML\n",
    "        if html_stripping:\n",
    "            doc = strip_html_tags(doc)\n",
    "        # remove accented characters\n",
    "        if accented_char_removal:\n",
    "            doc = remove_accented_chars(doc)\n",
    "        # expand contractions    \n",
    "        if contraction_expansion:\n",
    "            doc = expand_contractions(doc)\n",
    "        # lowercase the text    \n",
    "        if text_lower_case:\n",
    "            doc = doc.lower()\n",
    "        # remove extra newlines\n",
    "        doc = re.sub(r'[\\r|\\n|\\r\\n]+', ' ',doc)\n",
    "        # insert spaces between special characters to isolate them    \n",
    "        special_char_pattern = re.compile(r'([{.(-)!}])')\n",
    "        doc = special_char_pattern.sub(\" \\\\1 \", doc)\n",
    "        # lemmatize text\n",
    "        if text_lemmatization:\n",
    "            doc = lemmatize_text(doc)\n",
    "        # remove special characters    \n",
    "        if special_char_removal:\n",
    "            doc = remove_special_characters(doc)  \n",
    "        # remove extra whitespace\n",
    "        doc = re.sub(' +', ' ', doc)\n",
    "        # remove stopwords\n",
    "        if stopword_removal:\n",
    "            doc = remove_stopwords(doc, is_lower_case=text_lower_case)\n",
    "            \n",
    "        normalized_corpus.append(doc)\n",
    "        \n",
    "    return normalized_corpus"
   ]
  },
  {
   "cell_type": "code",
   "execution_count": 12,
   "metadata": {},
   "outputs": [],
   "source": [
    "norm_train_msg = normalize_corpus(msg_train, html_stripping=False)\n",
    "norm_valid_msg = normalize_corpus(msg_valid, html_stripping=False)"
   ]
  },
  {
   "cell_type": "code",
   "execution_count": 13,
   "metadata": {},
   "outputs": [
    {
     "data": {
      "text/plain": [
       "'okay well price quality product everything fine I know film not full screen one leave I okay well price quality product everything fine I know film not full screen one leave I'"
      ]
     },
     "execution_count": 13,
     "metadata": {},
     "output_type": "execute_result"
    }
   ],
   "source": [
    "norm_train_msg[0]"
   ]
  },
  {
   "cell_type": "code",
   "execution_count": 14,
   "metadata": {},
   "outputs": [],
   "source": [
    "# encode: word to index\n",
    "##Tokenize\n",
    "tokenized_train = [tokenizer.tokenize(text) for text in norm_train_msg]\n",
    "tokenized_valid = [tokenizer.tokenize(text) for text in norm_valid_msg]"
   ]
  },
  {
   "cell_type": "code",
   "execution_count": 15,
   "metadata": {},
   "outputs": [
    {
     "data": {
      "text/plain": [
       "['okay',\n",
       " 'well',\n",
       " 'price',\n",
       " 'quality',\n",
       " 'product',\n",
       " 'everything',\n",
       " 'fine',\n",
       " 'I',\n",
       " 'know',\n",
       " 'film',\n",
       " 'not',\n",
       " 'full',\n",
       " 'screen',\n",
       " 'one',\n",
       " 'leave',\n",
       " 'I',\n",
       " 'okay',\n",
       " 'well',\n",
       " 'price',\n",
       " 'quality',\n",
       " 'product',\n",
       " 'everything',\n",
       " 'fine',\n",
       " 'I',\n",
       " 'know',\n",
       " 'film',\n",
       " 'not',\n",
       " 'full',\n",
       " 'screen',\n",
       " 'one',\n",
       " 'leave',\n",
       " 'I']"
      ]
     },
     "execution_count": 15,
     "metadata": {},
     "output_type": "execute_result"
    }
   ],
   "source": [
    "tokenized_train[0]"
   ]
  },
  {
   "cell_type": "code",
   "execution_count": 16,
   "metadata": {},
   "outputs": [
    {
     "name": "stdout",
     "output_type": "stream",
     "text": [
      "Vocabulary Size: 47690\n",
      "Sample slice of vocabulary map: {'not': 11, 'full': 12, 'screen': 13, 'one': 14, 'leave': 15, 'excellent': 16, 'good': 17, 'delivery': 18, 'speed': 19, 'seller': 20}\n"
     ]
    }
   ],
   "source": [
    "## build encode list\n",
    "from collections import Counter\n",
    "token_counter = Counter([token for review in tokenized_train for token in review])\n",
    "vocab_map = {item[0]: index+1 for index, item in enumerate(dict(token_counter).items())}\n",
    "max_index = np.max(list(vocab_map.values()))\n",
    "vocab_map['PAD_INDEX'] = 0\n",
    "vocab_map['NOT_FOUND_INDEX'] = max_index+1\n",
    "vocab_size = len(vocab_map)\n",
    "\n",
    "print('Vocabulary Size:', vocab_size)\n",
    "print('Sample slice of vocabulary map:', dict(list(vocab_map.items())[10:20]))"
   ]
  },
  {
   "cell_type": "code",
   "execution_count": 17,
   "metadata": {},
   "outputs": [],
   "source": [
    "## Convert tokenized text reviews to numeric vectors\n",
    "from keras.preprocessing import sequence\n",
    "max_len = np.max([len(review) for review in tokenized_train])\n",
    "train_X = [[vocab_map[token] for token in tokenized_review] for tokenized_review in tokenized_train]\n",
    "train_X = sequence.pad_sequences(train_X, maxlen=max_len)\n",
    "\n",
    "valid_X = [[vocab_map[token] if vocab_map.get(token) else vocab_map['NOT_FOUND_INDEX'] \n",
    "           for token in tokenized_review] \n",
    "              for tokenized_review in tokenized_valid]\n",
    "valid_X = sequence.pad_sequences(valid_X, maxlen=max_len)"
   ]
  },
  {
   "cell_type": "code",
   "execution_count": 18,
   "metadata": {},
   "outputs": [
    {
     "data": {
      "text/plain": [
       "array([   0,    0,    0,    0,    0,    0,    0,    0,    0,    0,    0,\n",
       "          0,    0,    0,    0,    0,    0,    0,    0,    0,    0,    0,\n",
       "          0,    0,    0,    0,    0,    0,    0,    0,    0,    0,    0,\n",
       "          0,    0,    0,    0,    0,    0,    0,    0,    0,    0,    0,\n",
       "          0,    0,    0,    0,    0,    0,    0,    0,    0,    0,    0,\n",
       "          0,    0,    0,    0,    0,    0,    0,    0,    0,    0,    0,\n",
       "          0,    0,    0,    0,    0,    0,    0,    0,    0,    0,    0,\n",
       "          0,    0,    0,    0,    0,    0,    0,    0,    0,    0,    0,\n",
       "          0,    0,    0,    0,    0,    0,    0,    0,    0,    0,    0,\n",
       "          0,    0,    0,    0,    0,    0,    0,    0,    0,    0,    0,\n",
       "          0,    0,    0,    0,    0,    0,    0,    0,    0,    0,    0,\n",
       "          0,    0,    0,    0,    0,    0,    0,    0,    0,    0,    0,\n",
       "          0,    0,    0,    0,    0,    0,    0,    0,    0,    0,    0,\n",
       "          0,    0,    0,    0,    0,    0,    0,    0,    0,    0,    0,\n",
       "          0,    0,    0,    0,    0,    0,    0,    0,    0,    0,    0,\n",
       "          0, 4961,  291,  308,   14,  439,  291, 4962,   77,  129,  313])"
      ]
     },
     "execution_count": 18,
     "metadata": {},
     "output_type": "execute_result"
    }
   ],
   "source": [
    "train_X[3000]"
   ]
  },
  {
   "cell_type": "code",
   "execution_count": 19,
   "metadata": {},
   "outputs": [
    {
     "name": "stdout",
     "output_type": "stream",
     "text": [
      "Max length of train review vectors: 176\n",
      "Train review vectors shape: (110108, 176) Valid review vectors shape: (36703, 176)\n"
     ]
    }
   ],
   "source": [
    "print('Max length of train review vectors:', max_len)\n",
    "print('Train review vectors shape:', train_X.shape,'Valid review vectors shape:', valid_X.shape)"
   ]
  },
  {
   "cell_type": "markdown",
   "metadata": {},
   "source": [
    "# Step2 Modeling"
   ]
  },
  {
   "cell_type": "code",
   "execution_count": 29,
   "metadata": {},
   "outputs": [],
   "source": [
    "from sklearn import metrics\n",
    "def train_predict_model(classifier, \n",
    "                        train_features, train_labels, \n",
    "                        test_features, test_labels):\n",
    "    # build model    \n",
    "    classifier.fit(train_features, train_labels)\n",
    "    # predict using model\n",
    "    predictions = classifier.predict(test_features) \n",
    "    return predictions "
   ]
  },
  {
   "cell_type": "code",
   "execution_count": 21,
   "metadata": {},
   "outputs": [],
   "source": [
    "def get_metrics(true_labels, predicted_labels):\n",
    "    \n",
    "    print('Accuracy:', np.round(\n",
    "                        metrics.accuracy_score(true_labels, \n",
    "                                               predicted_labels),\n",
    "                        4))\n",
    "    print('Precision:', np.round(\n",
    "                        metrics.precision_score(true_labels, \n",
    "                                               predicted_labels,\n",
    "                                               average='weighted'),\n",
    "                        4))\n",
    "    print('Recall:', np.round(\n",
    "                        metrics.recall_score(true_labels, \n",
    "                                               predicted_labels,\n",
    "                                               average='weighted'),\n",
    "                        4))\n",
    "    print('F1 Score:', np.round(\n",
    "                        metrics.f1_score(true_labels, \n",
    "                                               predicted_labels,\n",
    "                                               average='weighted'),\n",
    "                        4))"
   ]
  },
  {
   "cell_type": "code",
   "execution_count": 22,
   "metadata": {},
   "outputs": [],
   "source": [
    "def display_classification_report(true_labels, predicted_labels, classes=[1,0]):\n",
    "\n",
    "    report = metrics.classification_report(y_true=true_labels, \n",
    "                                           y_pred=predicted_labels, \n",
    "                                           labels=classes) \n",
    "    print(report)"
   ]
  },
  {
   "cell_type": "code",
   "execution_count": 23,
   "metadata": {},
   "outputs": [],
   "source": [
    "def display_confusion_matrix(true_labels, predicted_labels, classes=[1,0]):\n",
    "    \n",
    "    total_classes = len(classes)\n",
    "    #level_labels = [total_classes*[0], list(range(total_classes))]\n",
    "\n",
    "    cm = metrics.confusion_matrix(y_true=true_labels, y_pred=predicted_labels)\n",
    "    cm_frame = pd.DataFrame(data=cm, \n",
    "                            index = [['Actual']*total_classes,classes],\n",
    "                            columns = [['Predicted']*total_classes,classes]) \n",
    "    print (cm_frame)"
   ]
  },
  {
   "cell_type": "code",
   "execution_count": 24,
   "metadata": {},
   "outputs": [],
   "source": [
    "def display_model_performance_metrics(true_labels, predicted_labels, classes):\n",
    "    print('Model Performance metrics:')\n",
    "    print('-'*30)\n",
    "    get_metrics(true_labels=true_labels, predicted_labels=predicted_labels)\n",
    "    print('\\nModel Classification report:')\n",
    "    print('-'*30)\n",
    "    display_classification_report(true_labels=true_labels, predicted_labels=predicted_labels, classes=classes)\n",
    "    print('\\nPrediction Confusion Matrix:')\n",
    "    print('-'*30)\n",
    "    display_confusion_matrix(true_labels=true_labels, predicted_labels=predicted_labels, \n",
    "                             classes=classes)"
   ]
  },
  {
   "cell_type": "markdown",
   "metadata": {},
   "source": [
    "## logistic regression"
   ]
  },
  {
   "cell_type": "code",
   "execution_count": 25,
   "metadata": {},
   "outputs": [],
   "source": [
    "from sklearn.linear_model import SGDClassifier, LogisticRegression\n",
    "lr = LogisticRegression(penalty='l2', max_iter=100, C=1)"
   ]
  },
  {
   "cell_type": "code",
   "execution_count": 26,
   "metadata": {},
   "outputs": [
    {
     "name": "stdout",
     "output_type": "stream",
     "text": [
      "110108 110108 36703 36703\n"
     ]
    }
   ],
   "source": [
    "print(len(train_X), len(rating_train), len(valid_X),len(rating_valid))"
   ]
  },
  {
   "cell_type": "code",
   "execution_count": 27,
   "metadata": {},
   "outputs": [
    {
     "name": "stderr",
     "output_type": "stream",
     "text": [
      "C:\\Users\\USER\\anaconda3\\lib\\site-packages\\sklearn\\linear_model\\_logistic.py:765: ConvergenceWarning: lbfgs failed to converge (status=1):\n",
      "STOP: TOTAL NO. of ITERATIONS REACHED LIMIT.\n",
      "\n",
      "Increase the number of iterations (max_iter) or scale the data as shown in:\n",
      "    https://scikit-learn.org/stable/modules/preprocessing.html\n",
      "Please also refer to the documentation for alternative solver options:\n",
      "    https://scikit-learn.org/stable/modules/linear_model.html#logistic-regression\n",
      "  extra_warning_msg=_LOGISTIC_SOLVER_CONVERGENCE_MSG)\n"
     ]
    }
   ],
   "source": [
    "lr_predictions = train_predict_model(classifier=lr, \n",
    "                                         train_features=train_X, train_labels=rating_train,\n",
    "                                         test_features=valid_X, test_labels=rating_valid)\n"
   ]
  },
  {
   "cell_type": "code",
   "execution_count": 30,
   "metadata": {
    "scrolled": true
   },
   "outputs": [
    {
     "name": "stdout",
     "output_type": "stream",
     "text": [
      "Model Performance metrics:\n",
      "------------------------------\n",
      "Accuracy: 0.2804\n",
      "Precision: 0.2542\n",
      "Recall: 0.2804\n",
      "F1 Score: 0.2334\n",
      "\n",
      "Model Classification report:\n",
      "------------------------------\n",
      "              precision    recall  f1-score   support\n",
      "\n",
      "           1       0.20      0.04      0.07      3645\n",
      "           2       0.15      0.00      0.00      3173\n",
      "           3       0.24      0.12      0.16      8982\n",
      "           4       0.29      0.62      0.40     10495\n",
      "           5       0.28      0.25      0.26     10408\n",
      "\n",
      "    accuracy                           0.28     36703\n",
      "   macro avg       0.23      0.21      0.18     36703\n",
      "weighted avg       0.25      0.28      0.23     36703\n",
      "\n",
      "\n",
      "Prediction Confusion Matrix:\n",
      "------------------------------\n",
      "         Predicted                      \n",
      "                 1   2     3     4     5\n",
      "Actual 1       154  11   498  2062   920\n",
      "       2        94   6   413  1870   790\n",
      "       3       195   7  1048  5413  2319\n",
      "       4       188  10  1158  6524  2615\n",
      "       5       152   7  1171  6519  2559\n"
     ]
    }
   ],
   "source": [
    "display_model_performance_metrics(true_labels=rating_valid, predicted_labels=lr_predictions,\n",
    "                                      classes=[1,2,3,4,5])"
   ]
  },
  {
   "cell_type": "markdown",
   "metadata": {},
   "source": [
    "## SVM"
   ]
  },
  {
   "cell_type": "code",
   "execution_count": 31,
   "metadata": {},
   "outputs": [],
   "source": [
    "svm = SGDClassifier(loss='hinge', max_iter=100)"
   ]
  },
  {
   "cell_type": "code",
   "execution_count": 32,
   "metadata": {
    "scrolled": true
   },
   "outputs": [
    {
     "name": "stdout",
     "output_type": "stream",
     "text": [
      "Model Performance metrics:\n",
      "------------------------------\n",
      "Accuracy: 0.2222\n",
      "Precision: 0.2382\n",
      "Recall: 0.2222\n",
      "F1 Score: 0.2066\n",
      "\n",
      "Model Classification report:\n",
      "------------------------------\n",
      "              precision    recall  f1-score   support\n",
      "\n",
      "           1       0.12      0.13      0.12      3645\n",
      "           2       0.11      0.14      0.13      3173\n",
      "           3       0.24      0.48      0.32      8982\n",
      "           4       0.29      0.15      0.20     10495\n",
      "           5       0.26      0.13      0.17     10408\n",
      "\n",
      "    accuracy                           0.22     36703\n",
      "   macro avg       0.20      0.21      0.19     36703\n",
      "weighted avg       0.24      0.22      0.21     36703\n",
      "\n",
      "\n",
      "Prediction Confusion Matrix:\n",
      "------------------------------\n",
      "         Predicted                        \n",
      "                 1     2     3     4     5\n",
      "Actual 1       465   494  1668   514   504\n",
      "       2       409   458  1589   337   380\n",
      "       3       922   937  4317  1397  1409\n",
      "       4      1063  1156  5276  1585  1415\n",
      "       5      1095  1086  5341  1557  1329\n"
     ]
    },
    {
     "name": "stderr",
     "output_type": "stream",
     "text": [
      "C:\\Users\\USER\\anaconda3\\lib\\site-packages\\sklearn\\linear_model\\_stochastic_gradient.py:577: ConvergenceWarning: Maximum number of iteration reached before convergence. Consider increasing max_iter to improve the fit.\n",
      "  ConvergenceWarning)\n"
     ]
    }
   ],
   "source": [
    "svm_predictions = train_predict_model(classifier=svm, \n",
    "                                             train_features=train_X, train_labels=rating_train,\n",
    "                                             test_features=valid_X, test_labels=rating_valid)\n",
    "display_model_performance_metrics(true_labels=rating_valid, predicted_labels=svm_predictions,\n",
    "                                      classes=[1,2,3,4,5])"
   ]
  },
  {
   "cell_type": "code",
   "execution_count": 53,
   "metadata": {},
   "outputs": [],
   "source": [
    "from keras.models import Sequential\n",
    "from keras.layers import Dense, Embedding, Dropout, Activation, SpatialDropout1D, GlobalAveragePooling1D\n",
    "from keras.layers import LSTM\n",
    "from keras.layers.normalization import BatchNormalization"
   ]
  },
  {
   "cell_type": "markdown",
   "metadata": {},
   "source": [
    "## DNN"
   ]
  },
  {
   "cell_type": "code",
   "execution_count": 1,
   "metadata": {},
   "outputs": [],
   "source": [
    "def construct_deepnn_architecture(num_input_features):\n",
    "    dnn_model = Sequential()\n",
    "    dnn_model.add(Embedding(num_input_features,128))\n",
    "    dnn_model.add(GlobalAveragePooling1D())\n",
    "    dnn_model.add(Dense(64, activation=\"relu\"))\n",
    "    dnn_model.add(Dense(32, activation=\"relu\"))\n",
    "    dnn_model.add(Dense(5, activation=\"softmax\"))\n",
    "\n",
    "    dnn_model.compile(loss='categorical_crossentropy', optimizer='adam',                 \n",
    "                      metrics=['accuracy'])\n",
    "    return dnn_model"
   ]
  },
  {
   "cell_type": "code",
   "execution_count": 126,
   "metadata": {},
   "outputs": [],
   "source": [
    "dnn_embedding = construct_deepnn_architecture(num_input_features=len(train_Y))"
   ]
  },
  {
   "cell_type": "code",
   "execution_count": 127,
   "metadata": {},
   "outputs": [
    {
     "name": "stdout",
     "output_type": "stream",
     "text": [
      "Model: \"sequential_19\"\n",
      "_________________________________________________________________\n",
      "Layer (type)                 Output Shape              Param #   \n",
      "=================================================================\n",
      "embedding_14 (Embedding)     (None, None, 128)         14093824  \n",
      "_________________________________________________________________\n",
      "global_average_pooling1d_10  (None, 128)               0         \n",
      "_________________________________________________________________\n",
      "dense_64 (Dense)             (None, 64)                8256      \n",
      "_________________________________________________________________\n",
      "dense_65 (Dense)             (None, 32)                2080      \n",
      "_________________________________________________________________\n",
      "dense_66 (Dense)             (None, 5)                 165       \n",
      "=================================================================\n",
      "Total params: 14,104,325\n",
      "Trainable params: 14,104,325\n",
      "Non-trainable params: 0\n",
      "_________________________________________________________________\n",
      "None\n"
     ]
    }
   ],
   "source": [
    "print(dnn_embedding.summary())"
   ]
  },
  {
   "cell_type": "code",
   "execution_count": 128,
   "metadata": {},
   "outputs": [
    {
     "data": {
      "image/png": "[encoded data removed]",
      "text/plain": [
       "<IPython.core.display.Image object>"
      ]
     },
     "execution_count": 128,
     "metadata": {},
     "output_type": "execute_result"
    }
   ],
   "source": [
    "from keras.utils.vis_utils import plot_model\n",
    "plot_model(dnn_embedding, to_file='dmm_model.png', show_shapes=True, show_layer_names=True)"
   ]
  },
  {
   "cell_type": "code",
   "execution_count": 129,
   "metadata": {},
   "outputs": [
    {
     "name": "stdout",
     "output_type": "stream",
     "text": [
      "Train on 99097 samples, validate on 11011 samples\n",
      "Epoch 1/10\n",
      "99097/99097 [==============================] - 162s 2ms/step - loss: 1.3151 - accuracy: 0.3698 - val_loss: 1.1712 - val_accuracy: 0.4451\n",
      "Epoch 2/10\n",
      "99097/99097 [==============================] - 162s 2ms/step - loss: 1.1262 - accuracy: 0.4594 - val_loss: 1.1270 - val_accuracy: 0.4572\n",
      "Epoch 3/10\n",
      "99097/99097 [==============================] - 161s 2ms/step - loss: 1.0757 - accuracy: 0.4822 - val_loss: 1.1199 - val_accuracy: 0.4692\n",
      "Epoch 4/10\n",
      "99097/99097 [==============================] - 159s 2ms/step - loss: 1.0400 - accuracy: 0.4990 - val_loss: 1.1469 - val_accuracy: 0.4493\n",
      "Epoch 5/10\n",
      "99097/99097 [==============================] - 159s 2ms/step - loss: 1.0053 - accuracy: 0.5125 - val_loss: 1.1407 - val_accuracy: 0.4654\n",
      "Epoch 6/10\n",
      "99097/99097 [==============================] - 161s 2ms/step - loss: 0.9714 - accuracy: 0.5300 - val_loss: 1.1485 - val_accuracy: 0.4647\n",
      "Epoch 7/10\n",
      "99097/99097 [==============================] - 160s 2ms/step - loss: 0.9392 - accuracy: 0.5443 - val_loss: 1.1931 - val_accuracy: 0.4508\n",
      "Epoch 8/10\n",
      "99097/99097 [==============================] - 159s 2ms/step - loss: 0.9048 - accuracy: 0.5635 - val_loss: 1.1901 - val_accuracy: 0.4532\n",
      "Epoch 9/10\n",
      "99097/99097 [==============================] - 162s 2ms/step - loss: 0.8734 - accuracy: 0.5829 - val_loss: 1.2438 - val_accuracy: 0.4492\n",
      "Epoch 10/10\n",
      "99097/99097 [==============================] - 163s 2ms/step - loss: 0.8398 - accuracy: 0.6044 - val_loss: 1.2469 - val_accuracy: 0.4526\n"
     ]
    },
    {
     "data": {
      "text/plain": [
       "<keras.engine.sequential.Sequential at 0x25508ef6f08>"
      ]
     },
     "execution_count": 129,
     "metadata": {},
     "output_type": "execute_result"
    }
   ],
   "source": [
    "batch_size = 100\n",
    "dnn_embedding.fit(train_X, train_Y, epochs=5, batch_size=batch_size, \n",
    "            shuffle=True, validation_split=0.1, verbose=1)\n",
    "dnn_embedding"
   ]
  },
  {
   "cell_type": "code",
   "execution_count": 130,
   "metadata": {},
   "outputs": [],
   "source": [
    "y_pred = dnn_embedding.predict_classes(valid_X)\n",
    "dnn_predictions = le.inverse_transform(y_pred)"
   ]
  },
  {
   "cell_type": "code",
   "execution_count": 131,
   "metadata": {
    "scrolled": true
   },
   "outputs": [
    {
     "name": "stdout",
     "output_type": "stream",
     "text": [
      "Model Performance metrics:\n",
      "------------------------------\n",
      "Accuracy: 0.4497\n",
      "Precision: 0.4536\n",
      "Recall: 0.4497\n",
      "F1 Score: 0.4487\n",
      "\n",
      "Model Classification report:\n",
      "------------------------------\n",
      "              precision    recall  f1-score   support\n",
      "\n",
      "           1       0.58      0.62      0.60      3645\n",
      "           2       0.45      0.26      0.33      3173\n",
      "           3       0.53      0.50      0.52      8982\n",
      "           4       0.37      0.42      0.40     10495\n",
      "           5       0.42      0.44      0.43     10408\n",
      "\n",
      "    accuracy                           0.45     36703\n",
      "   macro avg       0.47      0.45      0.45     36703\n",
      "weighted avg       0.45      0.45      0.45     36703\n",
      "\n",
      "\n",
      "Prediction Confusion Matrix:\n",
      "------------------------------\n",
      "         Predicted                       \n",
      "                 1    2     3     4     5\n",
      "Actual 1      2248  355   570   396    76\n",
      "       2       689  824  1014   410   236\n",
      "       3       542  449  4473  2204  1314\n",
      "       4       184   83  1157  4412  4659\n",
      "       5       188  102  1168  4402  4548\n"
     ]
    }
   ],
   "source": [
    "display_model_performance_metrics(true_labels=rating_valid, predicted_labels=dnn_predictions,\n",
    "                                      classes=[1,2,3,4,5])"
   ]
  },
  {
   "cell_type": "markdown",
   "metadata": {},
   "source": [
    "## LSTM"
   ]
  },
  {
   "cell_type": "code",
   "execution_count": 136,
   "metadata": {},
   "outputs": [],
   "source": [
    "def construct_lstm_architecture(num_input_features):\n",
    "    lstm_model = Sequential()\n",
    "    lstm_model.add(Embedding(input_dim=num_input_features, output_dim=128,input_length=max_len))\n",
    "    lstm_model.add(SpatialDropout1D(0.2))\n",
    "    lstm_model.add(LSTM(64, dropout=0.2, recurrent_dropout=0.2))\n",
    "    lstm_model.add(Dense(32, activation=\"relu\"))\n",
    "    lstm_model.add(Dense(5, activation=\"softmax\"))\n",
    "\n",
    "    lstm_model.compile(loss='categorical_crossentropy', optimizer='adam',                 \n",
    "                      metrics=['accuracy'])\n",
    "    return lstm_model"
   ]
  },
  {
   "cell_type": "code",
   "execution_count": 137,
   "metadata": {},
   "outputs": [],
   "source": [
    "lstm_embedding = construct_lstm_architecture(num_input_features=vocab_size)"
   ]
  },
  {
   "cell_type": "code",
   "execution_count": 138,
   "metadata": {},
   "outputs": [
    {
     "name": "stdout",
     "output_type": "stream",
     "text": [
      "Model: \"sequential_22\"\n",
      "_________________________________________________________________\n",
      "Layer (type)                 Output Shape              Param #   \n",
      "=================================================================\n",
      "embedding_17 (Embedding)     (None, 176, 128)          6104320   \n",
      "_________________________________________________________________\n",
      "spatial_dropout1d_3 (Spatial (None, 176, 128)          0         \n",
      "_________________________________________________________________\n",
      "lstm_1 (LSTM)                (None, 64)                49408     \n",
      "_________________________________________________________________\n",
      "dense_67 (Dense)             (None, 32)                2080      \n",
      "_________________________________________________________________\n",
      "dense_68 (Dense)             (None, 5)                 165       \n",
      "=================================================================\n",
      "Total params: 6,155,973\n",
      "Trainable params: 6,155,973\n",
      "Non-trainable params: 0\n",
      "_________________________________________________________________\n",
      "None\n"
     ]
    }
   ],
   "source": [
    "print(lstm_embedding.summary())"
   ]
  },
  {
   "cell_type": "code",
   "execution_count": 139,
   "metadata": {},
   "outputs": [
    {
     "data": {
      "image/png": "[encoded data removed]",
      "text/plain": [
       "<IPython.core.display.Image object>"
      ]
     },
     "execution_count": 139,
     "metadata": {},
     "output_type": "execute_result"
    }
   ],
   "source": [
    "plot_model(lstm_embedding, to_file='lstm_model.png', show_shapes=True, show_layer_names=True)"
   ]
  },
  {
   "cell_type": "code",
   "execution_count": 140,
   "metadata": {},
   "outputs": [
    {
     "name": "stdout",
     "output_type": "stream",
     "text": [
      "Train on 99097 samples, validate on 11011 samples\n",
      "Epoch 1/10\n",
      "99097/99097 [==============================] - 306s 3ms/step - loss: 1.1767 - accuracy: 0.4343 - val_loss: 1.0940 - val_accuracy: 0.4701\n",
      "Epoch 2/10\n",
      "99097/99097 [==============================] - 312s 3ms/step - loss: 1.0360 - accuracy: 0.4992 - val_loss: 1.0860 - val_accuracy: 0.4788\n",
      "Epoch 3/10\n",
      "99097/99097 [==============================] - 313s 3ms/step - loss: 0.9608 - accuracy: 0.5391 - val_loss: 1.1049 - val_accuracy: 0.4766\n",
      "Epoch 4/10\n",
      "99097/99097 [==============================] - 311s 3ms/step - loss: 0.8922 - accuracy: 0.5809 - val_loss: 1.1517 - val_accuracy: 0.4693\n",
      "Epoch 5/10\n",
      "99097/99097 [==============================] - 315s 3ms/step - loss: 0.8275 - accuracy: 0.6143 - val_loss: 1.2029 - val_accuracy: 0.4643\n",
      "Epoch 6/10\n",
      "99097/99097 [==============================] - 312s 3ms/step - loss: 0.7701 - accuracy: 0.6418 - val_loss: 1.2649 - val_accuracy: 0.4639\n",
      "Epoch 7/10\n",
      "99097/99097 [==============================] - 312s 3ms/step - loss: 0.7230 - accuracy: 0.6632 - val_loss: 1.3141 - val_accuracy: 0.4660\n",
      "Epoch 8/10\n",
      "99097/99097 [==============================] - 313s 3ms/step - loss: 0.6821 - accuracy: 0.6802 - val_loss: 1.3824 - val_accuracy: 0.4648\n",
      "Epoch 9/10\n",
      "99097/99097 [==============================] - 313s 3ms/step - loss: 0.6475 - accuracy: 0.6949 - val_loss: 1.4862 - val_accuracy: 0.4615\n",
      "Epoch 10/10\n",
      "99097/99097 [==============================] - 313s 3ms/step - loss: 0.6202 - accuracy: 0.7062 - val_loss: 1.5445 - val_accuracy: 0.4614\n"
     ]
    },
    {
     "data": {
      "text/plain": [
       "<keras.engine.sequential.Sequential at 0x255157c5b08>"
      ]
     },
     "execution_count": 140,
     "metadata": {},
     "output_type": "execute_result"
    }
   ],
   "source": [
    "batch_size = 100\n",
    "lstm_embedding.fit(train_X, train_Y, epochs=10, batch_size=batch_size, \n",
    "            shuffle=True, validation_split=0.1, verbose=1)\n",
    "lstm_embedding"
   ]
  },
  {
   "cell_type": "code",
   "execution_count": 141,
   "metadata": {},
   "outputs": [],
   "source": [
    "y_pred = lstm_embedding.predict_classes(valid_X)\n",
    "lstm_predictions = le.inverse_transform(y_pred)"
   ]
  },
  {
   "cell_type": "code",
   "execution_count": 142,
   "metadata": {},
   "outputs": [
    {
     "name": "stdout",
     "output_type": "stream",
     "text": [
      "Model Performance metrics:\n",
      "------------------------------\n",
      "Accuracy: 0.4549\n",
      "Precision: 0.4483\n",
      "Recall: 0.4549\n",
      "F1 Score: 0.4436\n",
      "\n",
      "Model Classification report:\n",
      "------------------------------\n",
      "              precision    recall  f1-score   support\n",
      "\n",
      "           1       0.57      0.61      0.59      3645\n",
      "           2       0.38      0.35      0.37      3173\n",
      "           3       0.51      0.55      0.53      8982\n",
      "           4       0.39      0.24      0.30     10495\n",
      "           5       0.43      0.56      0.49     10408\n",
      "\n",
      "    accuracy                           0.45     36703\n",
      "   macro avg       0.46      0.46      0.45     36703\n",
      "weighted avg       0.45      0.45      0.44     36703\n",
      "\n",
      "\n",
      "Prediction Confusion Matrix:\n",
      "------------------------------\n",
      "         Predicted                        \n",
      "                 1     2     3     4     5\n",
      "Actual 1      2229   588   512   160   156\n",
      "       2       656  1120   905   214   278\n",
      "       3       576   798  4933  1125  1550\n",
      "       4       216   197  1607  2544  5931\n",
      "       5       235   217  1635  2452  5869\n"
     ]
    }
   ],
   "source": [
    "display_model_performance_metrics(true_labels=rating_valid, predicted_labels=lstm_predictions,\n",
    "                                      classes=[1,2,3,4,5])"
   ]
  },
  {
   "cell_type": "markdown",
   "metadata": {},
   "source": [
    "## LSTM + FastText"
   ]
  },
  {
   "cell_type": "code",
   "execution_count": 143,
   "metadata": {},
   "outputs": [],
   "source": [
    "#https://github.com/emmanuellaanggi/disaster_tweet_sentiment/blob/master/(Medium)_Text_Classification_Disaster_Tweet_.ipynb\n",
    "import requests, zipfile, io\n",
    "zip_file_url = \"https://dl.fbaipublicfiles.com/fasttext/vectors-english/crawl-300d-2M.vec.zip\"\n",
    "r = requests.get(zip_file_url)\n",
    "z = zipfile.ZipFile(io.BytesIO(r.content))\n",
    "z.extractall()"
   ]
  },
  {
   "cell_type": "code",
   "execution_count": 146,
   "metadata": {},
   "outputs": [
    {
     "name": "stderr",
     "output_type": "stream",
     "text": [
      "1927it [00:00, 9469.90it/s]"
     ]
    },
    {
     "name": "stdout",
     "output_type": "stream",
     "text": [
      "loading word embeddings...\n"
     ]
    },
    {
     "name": "stderr",
     "output_type": "stream",
     "text": [
      "1999996it [03:34, 9325.71it/s]"
     ]
    },
    {
     "name": "stdout",
     "output_type": "stream",
     "text": [
      "found 1999996 word vectors\n"
     ]
    },
    {
     "name": "stderr",
     "output_type": "stream",
     "text": [
      "\n"
     ]
    }
   ],
   "source": [
    "import codecs\n",
    "from tqdm import tqdm\n",
    "\n",
    "print('loading word embeddings...')\n",
    "\n",
    "embeddings_index = {}\n",
    "f = codecs.open('crawl-300d-2M.vec', encoding='utf-8')\n",
    "\n",
    "for line in tqdm(f):\n",
    "    values = line.rstrip().rsplit(' ')\n",
    "    word = values[0]\n",
    "    coefs = np.asarray(values[1:], dtype='float32')\n",
    "    embeddings_index[word] = coefs\n",
    "f.close()\n",
    "\n",
    "print('found %s word vectors' % len(embeddings_index))"
   ]
  },
  {
   "cell_type": "code",
   "execution_count": 148,
   "metadata": {},
   "outputs": [],
   "source": [
    "MAX_NB_WORDS = 100000\n",
    "embed_dim = 300 "
   ]
  },
  {
   "cell_type": "code",
   "execution_count": 149,
   "metadata": {},
   "outputs": [
    {
     "name": "stdout",
     "output_type": "stream",
     "text": [
      "preparing embedding matrix...\n",
      "number of null word embeddings: 27830\n"
     ]
    }
   ],
   "source": [
    "#embedding matrix\n",
    "\n",
    "print('preparing embedding matrix...')\n",
    "\n",
    "words_not_found = []\n",
    "nb_words = min(MAX_NB_WORDS, len(vocab_map)+1)\n",
    "embedding_matrix = np.zeros((nb_words, embed_dim))\n",
    "\n",
    "for word, i in vocab_map.items():\n",
    "    if i >= nb_words:\n",
    "        continue\n",
    "    embedding_vector = embeddings_index.get(word)\n",
    "    if (embedding_vector is not None) and len(embedding_vector) > 0:\n",
    "        # words not found in embedding index will be all-zeros.\n",
    "        embedding_matrix[i] = embedding_vector\n",
    "    else:\n",
    "        words_not_found.append(word)\n",
    "print('number of null word embeddings: %d' % np.sum(np.sum(embedding_matrix, axis=1) == 0))"
   ]
  },
  {
   "cell_type": "code",
   "execution_count": 150,
   "metadata": {},
   "outputs": [
    {
     "name": "stdout",
     "output_type": "stream",
     "text": [
      "sample words not found:  ['talag' 'dineli' 'topppppppppp' 'dehdehdeh' 'kasiiiiiih' 'anlakas'\n",
      " 'racun2' 'bklo' 'denganproduk' 'diexpedisinyaaaaaa']\n"
     ]
    }
   ],
   "source": [
    "print(\"sample words not found: \", np.random.choice(words_not_found, 10))"
   ]
  },
  {
   "cell_type": "code",
   "execution_count": 162,
   "metadata": {},
   "outputs": [],
   "source": [
    "def construct_lstm_embedding_architecture(num_input_features):\n",
    "    lstm_em_model = Sequential()\n",
    "    lstm_em_model.add(Embedding(input_dim=num_input_features, output_dim=embed_dim,\n",
    "                                input_length=max_len, weights=[embedding_matrix],trainable=False))\n",
    "    lstm_em_model.add(SpatialDropout1D(0.2))\n",
    "    lstm_em_model.add(LSTM(64, dropout=0.2, recurrent_dropout=0.2))\n",
    "    lstm_em_model.add(Dense(32, activation=\"relu\"))\n",
    "    lstm_em_model.add(Dropout(0.4))\n",
    "    lstm_em_model.add(Dense(5, activation=\"softmax\"))\n",
    "\n",
    "    lstm_em_model.compile(loss='categorical_crossentropy', optimizer='adam',                 \n",
    "                      metrics=['accuracy'])\n",
    "    return lstm_em_model"
   ]
  },
  {
   "cell_type": "code",
   "execution_count": 163,
   "metadata": {},
   "outputs": [],
   "source": [
    "lstm_embedding_fast = construct_lstm_embedding_architecture(num_input_features=vocab_size+1)"
   ]
  },
  {
   "cell_type": "code",
   "execution_count": 164,
   "metadata": {},
   "outputs": [
    {
     "name": "stdout",
     "output_type": "stream",
     "text": [
      "Model: \"sequential_24\"\n",
      "_________________________________________________________________\n",
      "Layer (type)                 Output Shape              Param #   \n",
      "=================================================================\n",
      "embedding_19 (Embedding)     (None, 176, 300)          14307300  \n",
      "_________________________________________________________________\n",
      "spatial_dropout1d_4 (Spatial (None, 176, 300)          0         \n",
      "_________________________________________________________________\n",
      "lstm_2 (LSTM)                (None, 64)                93440     \n",
      "_________________________________________________________________\n",
      "dense_69 (Dense)             (None, 32)                2080      \n",
      "_________________________________________________________________\n",
      "dropout_37 (Dropout)         (None, 32)                0         \n",
      "_________________________________________________________________\n",
      "dense_70 (Dense)             (None, 5)                 165       \n",
      "=================================================================\n",
      "Total params: 14,402,985\n",
      "Trainable params: 95,685\n",
      "Non-trainable params: 14,307,300\n",
      "_________________________________________________________________\n",
      "None\n"
     ]
    }
   ],
   "source": [
    "print(lstm_embedding_fast.summary())"
   ]
  },
  {
   "cell_type": "code",
   "execution_count": 165,
   "metadata": {},
   "outputs": [
    {
     "data": {
      "image/png": "[encoded data removed]",
      "text/plain": [
       "<IPython.core.display.Image object>"
      ]
     },
     "execution_count": 165,
     "metadata": {},
     "output_type": "execute_result"
    }
   ],
   "source": [
    "plot_model(lstm_embedding_fast, to_file='lstm_em_model.png', show_shapes=True, show_layer_names=True)"
   ]
  },
  {
   "cell_type": "code",
   "execution_count": 166,
   "metadata": {},
   "outputs": [
    {
     "name": "stdout",
     "output_type": "stream",
     "text": [
      "Train on 99097 samples, validate on 11011 samples\n",
      "Epoch 1/10\n",
      "99097/99097 [==============================] - 271s 3ms/step - loss: 1.2545 - accuracy: 0.4088 - val_loss: 1.1318 - val_accuracy: 0.4633\n",
      "Epoch 2/10\n",
      "99097/99097 [==============================] - 264s 3ms/step - loss: 1.1669 - accuracy: 0.4463 - val_loss: 1.1061 - val_accuracy: 0.4626\n",
      "Epoch 3/10\n",
      "99097/99097 [==============================] - 261s 3ms/step - loss: 1.1383 - accuracy: 0.4555 - val_loss: 1.0869 - val_accuracy: 0.4765\n",
      "Epoch 4/10\n",
      "99097/99097 [==============================] - 261s 3ms/step - loss: 1.1163 - accuracy: 0.4655 - val_loss: 1.0808 - val_accuracy: 0.4802\n",
      "Epoch 5/10\n",
      "99097/99097 [==============================] - 262s 3ms/step - loss: 1.1227 - accuracy: 0.4626 - val_loss: 1.0855 - val_accuracy: 0.4674\n",
      "Epoch 6/10\n",
      "99097/99097 [==============================] - 263s 3ms/step - loss: 1.1035 - accuracy: 0.4704 - val_loss: 1.0746 - val_accuracy: 0.4826\n",
      "Epoch 7/10\n",
      "99097/99097 [==============================] - 262s 3ms/step - loss: 1.0913 - accuracy: 0.4750 - val_loss: 1.0667 - val_accuracy: 0.4738\n",
      "Epoch 8/10\n",
      "99097/99097 [==============================] - 261s 3ms/step - loss: 1.0847 - accuracy: 0.4787 - val_loss: 1.0639 - val_accuracy: 0.4766\n",
      "Epoch 9/10\n",
      "99097/99097 [==============================] - 266s 3ms/step - loss: 1.0756 - accuracy: 0.4787 - val_loss: 1.0621 - val_accuracy: 0.4798\n",
      "Epoch 10/10\n",
      "99097/99097 [==============================] - 263s 3ms/step - loss: 1.0687 - accuracy: 0.4822 - val_loss: 1.0612 - val_accuracy: 0.4880\n"
     ]
    },
    {
     "data": {
      "text/plain": [
       "<keras.engine.sequential.Sequential at 0x2564b601b48>"
      ]
     },
     "execution_count": 166,
     "metadata": {},
     "output_type": "execute_result"
    }
   ],
   "source": [
    "batch_size = 100\n",
    "lstm_embedding_fast.fit(train_X, train_Y, epochs=10, batch_size=batch_size, \n",
    "            shuffle=True, validation_split=0.1, verbose=1)\n",
    "lstm_embedding_fast"
   ]
  },
  {
   "cell_type": "code",
   "execution_count": 167,
   "metadata": {},
   "outputs": [],
   "source": [
    "y_pred = lstm_embedding_fast.predict_classes(valid_X)\n",
    "lstm_em_predictions = le.inverse_transform(y_pred)"
   ]
  },
  {
   "cell_type": "code",
   "execution_count": 168,
   "metadata": {},
   "outputs": [
    {
     "data": {
      "text/plain": [
       "array([3, 4, 3, ..., 4, 4, 5], dtype=int64)"
      ]
     },
     "execution_count": 168,
     "metadata": {},
     "output_type": "execute_result"
    }
   ],
   "source": [
    "lstm_em_predictions"
   ]
  },
  {
   "cell_type": "code",
   "execution_count": 169,
   "metadata": {},
   "outputs": [
    {
     "name": "stdout",
     "output_type": "stream",
     "text": [
      "Model Performance metrics:\n",
      "------------------------------\n",
      "Accuracy: 0.4807\n",
      "Precision: 0.4998\n",
      "Recall: 0.4807\n",
      "F1 Score: 0.4267\n",
      "\n",
      "Model Classification report:\n",
      "------------------------------\n",
      "              precision    recall  f1-score   support\n",
      "\n",
      "           1       0.55      0.78      0.64      3645\n",
      "           2       0.69      0.21      0.32      3173\n",
      "           3       0.52      0.63      0.57      8982\n",
      "           4       0.43      0.72      0.53     10495\n",
      "           5       0.48      0.09      0.15     10408\n",
      "\n",
      "    accuracy                           0.48     36703\n",
      "   macro avg       0.53      0.49      0.44     36703\n",
      "weighted avg       0.50      0.48      0.43     36703\n",
      "\n",
      "\n",
      "Prediction Confusion Matrix:\n",
      "------------------------------\n",
      "         Predicted                      \n",
      "                 1    2     3     4    5\n",
      "Actual 1      2841   85   574   142    3\n",
      "       2      1022  664  1194   285    8\n",
      "       3       798  174  5670  2271   69\n",
      "       4       258   24  1762  7538  913\n",
      "       5       264   19  1705  7490  930\n"
     ]
    }
   ],
   "source": [
    "display_model_performance_metrics(true_labels=rating_valid, predicted_labels=lstm_em_predictions,\n",
    "                                      classes=[1,2,3,4,5])"
   ]
  },
  {
   "cell_type": "code",
   "execution_count": null,
   "metadata": {},
   "outputs": [],
   "source": [
    "#https://www.analyticsvidhya.com/blog/2015/10/6-practices-enhance-performance-text-classification-model/"
   ]
  }
 ],
 "metadata": {
  "kernelspec": {
   "display_name": "Python 3",
   "language": "python",
   "name": "python3"
  },
  "language_info": {
   "codemirror_mode": {
    "name": "ipython",
    "version": 3
   },
   "file_extension": ".py",
   "mimetype": "text/x-python",
   "name": "python",
   "nbconvert_exporter": "python",
   "pygments_lexer": "ipython3",
   "version": "3.7.6"
  }
 },
 "nbformat": 4,
 "nbformat_minor": 4
}
